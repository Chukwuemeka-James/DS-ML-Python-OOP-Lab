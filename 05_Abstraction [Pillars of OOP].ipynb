{
 "cells": [
  {
   "cell_type": "markdown",
   "metadata": {},
   "source": [
    "## **Abstraction in Object-Oriented Programming (OOP)**\n",
    "\n",
    "Abstraction is the concept of hiding the implementation details of an object and exposing only the essential features. It allows us to focus on what an object does instead of how it does it. In OOP, **Abstraction** is typically achieved using **abstract classes** and **abstract methods**.\n",
    "\n",
    "### Key Concepts of Abstraction:\n",
    "- **Abstract Class**: A class that cannot be instantiated directly. It often contains one or more abstract methods.\n",
    "- **Abstract Method**: A method declared in an abstract class that does not have an implementation. Subclasses must implement the abstract method.\n",
    "\n",
    "### **Abstraction in Action:**\n",
    "\n",
    "#### **1. Abstract Class and Abstract Methods**\n",
    "\n",
    "An **abstract class** is used when we want to define a template for other classes, but we do not want to allow the instantiation of the base class itself. It may contain abstract methods that must be implemented by any derived class.\n",
    "\n",
    "##### **Simple Example:**\n",
    "\n",
    "In this simple example, we define an abstract class `Employee` with an abstract method `calculate_salary()`. Any subclass of `Employee` will need to provide its implementation for `calculate_salary()`."
   ]
  },
  {
   "cell_type": "code",
   "execution_count": 7,
   "metadata": {},
   "outputs": [],
   "source": [
    "from abc import ABC, abstractmethod\n",
    "\n",
    "class Employee(ABC):\n",
    "    def __init__(self, name, role):\n",
    "        self.name = name\n",
    "        self.role = role\n",
    "    \n",
    "    @abstractmethod\n",
    "    def calculate_salary(self):\n",
    "        pass  # Abstract method with no implementation\n",
    "\n",
    "# Subclass: Data Scientist\n",
    "class DataScientist(Employee):\n",
    "    def min_years_of_exp(self):\n",
    "        return 2\n",
    "    \n",
    "    def calculate_salary(self):\n",
    "        return 40000\n",
    "\n",
    "# Subclass: Engineer\n",
    "class MLEngineer(Employee):\n",
    "    def min_years_of_exp(self):\n",
    "        return 3  # Salary for Engineer"
   ]
  },
  {
   "cell_type": "markdown",
   "metadata": {},
   "source": [
    "#### The second class `MLEngineer` was defined wrongly and is expected to raise and error because it did not implement the abstraction method."
   ]
  },
  {
   "cell_type": "code",
   "execution_count": 3,
   "metadata": {},
   "outputs": [],
   "source": [
    "# Good implementation\n",
    "\n",
    "emp1 = DataScientist(\"Alice\", \"Data Scientist\")"
   ]
  },
  {
   "cell_type": "code",
   "execution_count": 10,
   "metadata": {},
   "outputs": [
    {
     "name": "stdout",
     "output_type": "stream",
     "text": [
      "Alice's salary: 40000 and they have a minimum of 2 years of experience\n"
     ]
    }
   ],
   "source": [
    "print(f\"{emp1.name}'s salary: {emp1.calculate_salary()} and they have a minimum of {emp1.min_years_of_exp()} years of experience\")"
   ]
  },
  {
   "cell_type": "code",
   "execution_count": 8,
   "metadata": {},
   "outputs": [
    {
     "ename": "TypeError",
     "evalue": "Can't instantiate abstract class MLEngineer without an implementation for abstract method 'calculate_salary'",
     "output_type": "error",
     "traceback": [
      "\u001b[0;31m---------------------------------------------------------------------------\u001b[0m",
      "\u001b[0;31mTypeError\u001b[0m                                 Traceback (most recent call last)",
      "Cell \u001b[0;32mIn[8], line 3\u001b[0m\n\u001b[1;32m      1\u001b[0m \u001b[38;5;66;03m# Wrong implementation\u001b[39;00m\n\u001b[0;32m----> 3\u001b[0m emp2 \u001b[38;5;241m=\u001b[39m MLEngineer(\u001b[38;5;124m\"\u001b[39m\u001b[38;5;124mBob\u001b[39m\u001b[38;5;124m\"\u001b[39m, \u001b[38;5;124m\"\u001b[39m\u001b[38;5;124mEngineer\u001b[39m\u001b[38;5;124m\"\u001b[39m)\n",
      "\u001b[0;31mTypeError\u001b[0m: Can't instantiate abstract class MLEngineer without an implementation for abstract method 'calculate_salary'"
     ]
    }
   ],
   "source": [
    "# Wrong implementation\n",
    "\n",
    "emp2 = MLEngineer(\"Bob\", \"Engineer\")"
   ]
  },
  {
   "cell_type": "markdown",
   "metadata": {},
   "source": [
    "### **The above error is there because the `calculate_salary()` method was not defined in the `MLEngineer` class.**"
   ]
  },
  {
   "cell_type": "code",
   "execution_count": 13,
   "metadata": {},
   "outputs": [],
   "source": [
    "from abc import ABC, abstractmethod\n",
    "\n",
    "class Employee(ABC):\n",
    "    def __init__(self, name, role):\n",
    "        self.name = name\n",
    "        self.role = role\n",
    "    \n",
    "    @abstractmethod\n",
    "    def calculate_salary(self):\n",
    "        pass  # Abstract method with no implementation\n",
    "\n",
    "# Subclass: Data Scientist\n",
    "class DataScientist(Employee):    \n",
    "    def calculate_salary(self):\n",
    "        return 40000\n",
    "    \n",
    "    def min_years_of_exp(self):\n",
    "        return 2\n",
    "\n",
    "# Subclass: Engineer\n",
    "class MLEngineer(Employee):\n",
    "    def calculate_salary(self):\n",
    "        return 70000  # Salary for Engineer\n",
    "\n",
    "    def min_years_of_exp(self):\n",
    "        return 3  # min years of experience for Engineer"
   ]
  },
  {
   "cell_type": "code",
   "execution_count": 14,
   "metadata": {},
   "outputs": [],
   "source": [
    "# Creating objects for each subclass\n",
    "emp1 = DataScientist(\"Alice\", \"Data Scientist\")\n",
    "emp2 = MLEngineer(\"Bob\", \"Engineer\")"
   ]
  },
  {
   "cell_type": "code",
   "execution_count": 15,
   "metadata": {},
   "outputs": [
    {
     "name": "stdout",
     "output_type": "stream",
     "text": [
      "Alice's salary: 40000 and they have a minimum of 2 years of experience\n",
      "Bob's salary: 40000 and they have a minimum of 3 years of experience\n"
     ]
    }
   ],
   "source": [
    "# Calling the implemented method\n",
    "print(f\"{emp1.name}'s salary: {emp1.calculate_salary()} and they have a minimum of {emp1.min_years_of_exp()} years of experience\")\n",
    "print(f\"{emp2.name}'s salary: {emp1.calculate_salary()} and they have a minimum of {emp2.min_years_of_exp()} years of experience\")"
   ]
  },
  {
   "cell_type": "markdown",
   "metadata": {},
   "source": [
    "In this simple example:\n",
    "- The class `Employee` is abstract and cannot be instantiated.\n",
    "- The method `calculate_salary()` is abstract and must be implemented in the subclasses.\n",
    "- The subclasses `DataScientist` and `MLEngineer` provide specific implementations for `calculate_salary()`.\n",
    "\n",
    "---\n",
    "\n",
    "##### **More Complex Example:**\n",
    "\n",
    "In this more complex example, we add an abstract method `work()` to simulate employee responsibilities. We will have subclasses such as `Manager`, `DataScientist`, and `SoftwareEngineer`, each implementing the `work()` method."
   ]
  },
  {
   "cell_type": "code",
   "execution_count": 16,
   "metadata": {},
   "outputs": [],
   "source": [
    "from abc import ABC, abstractmethod\n",
    "\n",
    "class Employee(ABC):\n",
    "    def __init__(self, name, role, years_of_experience):\n",
    "        self.name = name\n",
    "        self.role = role\n",
    "        self.years_of_experience = years_of_experience\n",
    "    \n",
    "    @abstractmethod\n",
    "    def calculate_salary(self):\n",
    "        pass  # Abstract method with no implementation\n",
    "    \n",
    "    @abstractmethod\n",
    "    def work(self):\n",
    "        pass  # Abstract method to define what type of work each employee does\n",
    "\n",
    "# Subclass: Manager\n",
    "class Manager(Employee):\n",
    "    def calculate_salary(self):\n",
    "        return self.years_of_experience * 10000  # $10000 per year of experience\n",
    "    \n",
    "    def work(self):\n",
    "        print(f\"{self.name} is managing the team.\")\n",
    "\n",
    "# Subclass: Data Scientist\n",
    "class DataScientist(Employee):\n",
    "    def calculate_salary(self):\n",
    "        return self.years_of_experience * 8000  # $8000 per year of experience\n",
    "    \n",
    "    def work(self):\n",
    "        print(f\"{self.name} is analyzing data to provide insights.\")\n",
    "\n",
    "# Subclass: Software Engineer\n",
    "class SoftwareEngineer(Employee):\n",
    "    def calculate_salary(self):\n",
    "        return self.years_of_experience * 7000  # $7000 per year of experience\n",
    "    \n",
    "    def work(self):\n",
    "        print(f\"{self.name} is developing software applications.\")\n"
   ]
  },
  {
   "cell_type": "code",
   "execution_count": 17,
   "metadata": {},
   "outputs": [],
   "source": [
    "# Creating objects for each subclass\n",
    "emp1 = Manager(\"Charlie\", \"Manager\", 5)\n",
    "emp2 = DataScientist(\"Alice\", \"Data Scientist\", 3)\n",
    "emp3 = SoftwareEngineer(\"Bob\", \"Software Engineer\", 4)"
   ]
  },
  {
   "cell_type": "code",
   "execution_count": 18,
   "metadata": {},
   "outputs": [
    {
     "name": "stdout",
     "output_type": "stream",
     "text": [
      "Charlie is managing the team.\n",
      "Alice is analyzing data to provide insights.\n",
      "Bob is developing software applications.\n"
     ]
    }
   ],
   "source": [
    "# Calling the implemented methods\n",
    "emp1.work()\n",
    "emp2.work()\n",
    "emp3.work()  "
   ]
  },
  {
   "cell_type": "code",
   "execution_count": 19,
   "metadata": {},
   "outputs": [
    {
     "name": "stdout",
     "output_type": "stream",
     "text": [
      "Charlie's salary: 50000\n",
      "Alice's salary: 24000\n",
      "Bob's salary: 28000\n"
     ]
    }
   ],
   "source": [
    "# Output: Bob is developing software applications.\n",
    "\n",
    "print(f\"{emp1.name}'s salary: {emp1.calculate_salary()}\")\n",
    "print(f\"{emp2.name}'s salary: {emp2.calculate_salary()}\")\n",
    "print(f\"{emp3.name}'s salary: {emp3.calculate_salary()}\")"
   ]
  },
  {
   "cell_type": "markdown",
   "metadata": {},
   "source": [
    "In this more complex example:\n",
    "- The `Employee` class is abstract and contains two abstract methods: `calculate_salary()` and `work()`.\n",
    "- The subclasses `Manager`, `DataScientist`, and `SoftwareEngineer` each provide their specific implementations for both methods.\n",
    "- `work()` is implemented to reflect the unique responsibilities of each role.\n",
    "\n",
    "---\n",
    "\n",
    "#### **2. Using Abstraction for Code Reusability and Maintainability**\n",
    "\n",
    "Abstraction allows you to write general-purpose code that can work with any subclass without needing to understand the specific details. This makes your code more reusable, maintainable, and flexible.\n",
    "\n",
    "##### **Simple Example:**\n",
    "\n",
    "In this simple example, we can use the `Employee` class abstract method `calculate_salary()` in a function that can work with any employee type, be it a Data Scientist or an Engineer."
   ]
  },
  {
   "cell_type": "code",
   "execution_count": 20,
   "metadata": {},
   "outputs": [],
   "source": [
    "from abc import ABC, abstractmethod\n",
    "\n",
    "class Employee(ABC):\n",
    "    def __init__(self, name, role):\n",
    "        self.name = name\n",
    "        self.role = role\n",
    "    \n",
    "    @abstractmethod\n",
    "    def calculate_salary(self):\n",
    "        pass\n",
    "\n",
    "class DataScientist(Employee):\n",
    "    def calculate_salary(self):\n",
    "        return 90000\n",
    "\n",
    "class Engineer(Employee):\n",
    "    def calculate_salary(self):\n",
    "        return 70000\n",
    "\n",
    "# Function to display salary\n",
    "def display_salary(employee: Employee):\n",
    "    print(f\"{employee.name}'s salary is: {employee.calculate_salary()}\")"
   ]
  },
  {
   "cell_type": "code",
   "execution_count": 21,
   "metadata": {},
   "outputs": [],
   "source": [
    "# Creating employee objects\n",
    "emp1 = DataScientist(\"Alice\", \"Data Scientist\")\n",
    "emp2 = Engineer(\"Bob\", \"Engineer\")"
   ]
  },
  {
   "cell_type": "code",
   "execution_count": 22,
   "metadata": {},
   "outputs": [
    {
     "name": "stdout",
     "output_type": "stream",
     "text": [
      "Alice's salary is: 90000\n",
      "Bob's salary is: 70000\n"
     ]
    }
   ],
   "source": [
    "# Calling display_salary function\n",
    "display_salary(emp1)\n",
    "display_salary(emp2)"
   ]
  },
  {
   "cell_type": "markdown",
   "metadata": {},
   "source": [
    "In this simple example:\n",
    "- The function `display_salary()` works with any subclass of `Employee`.\n",
    "- We don’t need to worry about the specifics of the employee's role, as we rely on the abstract `calculate_salary()` method to handle the details.\n",
    "\n",
    "---\n",
    "\n",
    "##### **More Complex Example:**\n",
    "\n",
    "In this complex example, the `Employee` class has both `calculate_salary()` and `work()` methods. A function `perform_employee_task()` can accept different employee types and perform their tasks dynamically, allowing easy extension of new roles."
   ]
  },
  {
   "cell_type": "code",
   "execution_count": 23,
   "metadata": {},
   "outputs": [],
   "source": [
    "from abc import ABC, abstractmethod\n",
    "\n",
    "class Employee(ABC):\n",
    "    def __init__(self, name, role):\n",
    "        self.name = name\n",
    "        self.role = role\n",
    "    \n",
    "    @abstractmethod\n",
    "    def calculate_salary(self):\n",
    "        pass\n",
    "    \n",
    "    @abstractmethod\n",
    "    def work(self):\n",
    "        pass\n",
    "\n",
    "class DataScientist(Employee):\n",
    "    def calculate_salary(self):\n",
    "        return 90000\n",
    "    \n",
    "    def work(self):\n",
    "        print(f\"{self.name} is analyzing data.\")\n",
    "\n",
    "class Engineer(Employee):\n",
    "    def calculate_salary(self):\n",
    "        return 70000\n",
    "    \n",
    "    def work(self):\n",
    "        print(f\"{self.name} is writing code.\")"
   ]
  },
  {
   "cell_type": "code",
   "execution_count": 24,
   "metadata": {},
   "outputs": [],
   "source": [
    "# Function to perform employee tasks\n",
    "def perform_employee_task(employee: Employee):\n",
    "    employee.work()\n",
    "    print(f\"{employee.name}'s salary: {employee.calculate_salary()}\")"
   ]
  },
  {
   "cell_type": "code",
   "execution_count": 25,
   "metadata": {},
   "outputs": [],
   "source": [
    "# Creating employee objects\n",
    "emp1 = DataScientist(\"Alice\", \"Data Scientist\")\n",
    "emp2 = Engineer(\"Bob\", \"Engineer\")"
   ]
  },
  {
   "cell_type": "code",
   "execution_count": 26,
   "metadata": {},
   "outputs": [
    {
     "name": "stdout",
     "output_type": "stream",
     "text": [
      "Alice is analyzing data.\n",
      "Alice's salary: 90000\n",
      "Bob is writing code.\n",
      "Bob's salary: 70000\n"
     ]
    }
   ],
   "source": [
    "# Calling perform_employee_task function\n",
    "perform_employee_task(emp1)\n",
    "perform_employee_task(emp2)"
   ]
  },
  {
   "cell_type": "markdown",
   "metadata": {},
   "source": [
    "Here:\n",
    "- The `perform_employee_task()` function works with any `Employee` subclass (such as `DataScientist`, `Engineer`).\n",
    "- The code is reusable, and if new roles are added in the future (e.g., `HRManager`), the function will still work as long as the subclasses implement `calculate_salary()` and `work()`.\n",
    "\n",
    "---\n",
    "\n",
    "### **Key Takeaways:**\n",
    "\n",
    "1. **Abstraction** hides the implementation details and exposes only the essential features of an object.\n",
    "2. **Abstract classes** cannot be instantiated, and they can contain abstract methods that must be implemented by subclasses.\n",
    "3. **Abstract methods** define a contract that the subclass must follow, providing flexibility and extensibility.\n",
    "4. **Abstraction** improves code maintainability, reusability, and allows for flexibility when new classes are added.\n",
    "5. By focusing on **what** an object does instead of **how** it does it, abstraction helps manage complexity in software systems.\n"
   ]
  },
  {
   "cell_type": "code",
   "execution_count": null,
   "metadata": {},
   "outputs": [],
   "source": []
  }
 ],
 "metadata": {
  "kernelspec": {
   "display_name": "base",
   "language": "python",
   "name": "python3"
  },
  "language_info": {
   "codemirror_mode": {
    "name": "ipython",
    "version": 3
   },
   "file_extension": ".py",
   "mimetype": "text/x-python",
   "name": "python",
   "nbconvert_exporter": "python",
   "pygments_lexer": "ipython3",
   "version": "3.12.7"
  }
 },
 "nbformat": 4,
 "nbformat_minor": 2
}
