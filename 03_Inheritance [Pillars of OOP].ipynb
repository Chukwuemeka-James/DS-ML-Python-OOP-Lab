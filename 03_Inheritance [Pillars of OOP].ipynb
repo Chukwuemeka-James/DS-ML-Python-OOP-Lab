{
 "cells": [
  {
   "cell_type": "markdown",
   "metadata": {},
   "source": [
    "## Introduction to Inheritance\n",
    "\n",
    "**Inheritance** is one of the fundamental principles of Object-Oriented Programming (OOP). It allows a class (called a **child** or **subclass**) to acquire properties and behaviors (methods) from another class (called a **parent** or **superclass**).\n",
    "\n",
    "Think of it like this:\n",
    "> A **DataScientist** *is a kind of* **Employee**, so it should have everything an Employee has — plus more.\n",
    "\n",
    "## Why Use Inheritance?\n",
    "\n",
    "- **Code Reusability**: Avoid duplicating the same code in multiple classes.\n",
    "- **Logical Hierarchies**: Model real-world relationships more naturally.\n",
    "- **Extensibility**: You can extend the functionality of the existing class without modifying it.\n",
    "- **Maintainability**: Changes in parent classes automatically propagate to child classes (unless overridden).\n",
    "\n",
    "## Basic Syntax of Inheritance in Python\n",
    "\n",
    "```python\n",
    "class Parent:\n",
    "    # parent class definition\n",
    "\n",
    "class Child(Parent):\n",
    "    # child class that inherits from Parent\n",
    "```\n",
    "\n",
    "## Example 1: Simple Inheritance\n",
    "\n"
   ]
  },
  {
   "cell_type": "code",
   "execution_count": 3,
   "metadata": {},
   "outputs": [],
   "source": [
    "class Animal:\n",
    "    def speak(self):\n",
    "        return \"I make a sound\"\n",
    "\n",
    "class Dog(Animal):\n",
    "    pass"
   ]
  },
  {
   "cell_type": "code",
   "execution_count": 4,
   "metadata": {},
   "outputs": [
    {
     "data": {
      "text/plain": [
       "'I make a sound'"
      ]
     },
     "execution_count": 4,
     "metadata": {},
     "output_type": "execute_result"
    }
   ],
   "source": [
    "my_dog = Dog()\n",
    "my_dog.speak()"
   ]
  },
  {
   "cell_type": "markdown",
   "metadata": {},
   "source": [
    "Since `Dog` inherits from `Animal`, it gets the `speak()` method without rewriting it."
   ]
  },
  {
   "cell_type": "markdown",
   "metadata": {},
   "source": [
    "##  Types of Inheritance in Python\n",
    "\n",
    "### 1. **Single Inheritance**\n",
    "\n",
    "One child inherits from one parent."
   ]
  },
  {
   "cell_type": "code",
   "execution_count": 5,
   "metadata": {},
   "outputs": [],
   "source": [
    "# Parent class\n",
    "class Employee:\n",
    "    def __init__(self, name, role):\n",
    "        self.name = name\n",
    "        self.role = role\n",
    "\n",
    "    def show_info(self):\n",
    "        print(f\"Name: {self.name}, Role: {self.role}\")\n",
    "\n",
    "# Child class\n",
    "class DataScientist(Employee):\n",
    "    def __init__(self, name, role, tools):\n",
    "        super().__init__(name, role)  # Inherit from Employee\n",
    "        self.tools = tools\n",
    "\n",
    "    def show_details(self):\n",
    "        self.show_info()\n",
    "        print(f\"Tools: {', '.join(self.tools)}\")\n"
   ]
  },
  {
   "cell_type": "code",
   "execution_count": 7,
   "metadata": {},
   "outputs": [
    {
     "name": "stdout",
     "output_type": "stream",
     "text": [
      "Name: Samuel, Role: Front-end Dev\n"
     ]
    }
   ],
   "source": [
    "# Employee without inheritance\n",
    "\n",
    "Emp1 = Employee(\"Samuel\", \"Front-end Dev\")\n",
    "\n",
    "# Method call\n",
    "Emp1.show_info()"
   ]
  },
  {
   "cell_type": "code",
   "execution_count": 8,
   "metadata": {},
   "outputs": [
    {
     "name": "stdout",
     "output_type": "stream",
     "text": [
      "Name: Alice, Role: ML Engineer\n",
      "Tools: Python, TensorFlow, Pandas\n"
     ]
    }
   ],
   "source": [
    "# Example usage: Employee with inheritance\n",
    "\n",
    "ds = DataScientist(\"Alice\", \"ML Engineer\", [\"Python\", \"TensorFlow\", \"Pandas\"])\n",
    "ds.show_details()"
   ]
  },
  {
   "cell_type": "markdown",
   "metadata": {},
   "source": [
    "### 2. **Multilevel Inheritance**\n",
    "\n",
    "A class is derived from another derived class."
   ]
  },
  {
   "cell_type": "code",
   "execution_count": null,
   "metadata": {},
   "outputs": [],
   "source": [
    "# Base class\n",
    "class Person:\n",
    "    def __init__(self, name, age):\n",
    "        self.name = name\n",
    "        self.age = age\n",
    "\n",
    "    def introduce(self):\n",
    "        print(f\"My name is {self.name}, I am {self.age} years old.\")\n",
    "\n",
    "# Intermediate class\n",
    "class Employee(Person):\n",
    "    def __init__(self, name, age, role, department):\n",
    "        super().__init__(name, age)\n",
    "        self.role = role\n",
    "        self.department = department\n",
    "\n",
    "    def show_employee(self):\n",
    "        print(f\"Role: {self.role}, Department: {self.department}\")\n",
    "\n",
    "# Subclass (deepest level)\n",
    "class Manager(Employee):\n",
    "    def __init__(self, name, age, role, department, team_size):\n",
    "        super().__init__(name, age, role, department)\n",
    "        self.team_size = team_size\n",
    "\n",
    "    def show_manager(self):\n",
    "        self.introduce()\n",
    "        self.show_employee()\n",
    "        print(f\"Team Size: {self.team_size}\")"
   ]
  },
  {
   "cell_type": "code",
   "execution_count": null,
   "metadata": {},
   "outputs": [],
   "source": [
    "# Example usage\n",
    "mgr = Manager(\"Bob\", 45, \"Team Lead\", \"AI Department\", 8)\n",
    "mgr.show_manager()"
   ]
  },
  {
   "cell_type": "markdown",
   "metadata": {},
   "source": [
    "### Method Overriding with Attributes\n"
   ]
  },
  {
   "cell_type": "code",
   "execution_count": null,
   "metadata": {},
   "outputs": [],
   "source": [
    "# Parent class with attributes\n",
    "class Employee:\n",
    "    def __init__(self, name, role):\n",
    "        self.name = name\n",
    "        self.role = role\n",
    "        \n",
    "    def show_info(self):\n",
    "        print(f\"Employee: {self.name}\")\n",
    "        print(f\"Role: {self.role}\")\n",
    "\n",
    "# Child class with method overriding\n",
    "class Developer(Employee):\n",
    "    def __init__(self, name, role, programming_language):\n",
    "        # Initialize attributes using the parent constructor\n",
    "        super().__init__(name, role)\n",
    "        self.programming_language = programming_language\n",
    "        \n",
    "    # Overriding the show_info method\n",
    "    def show_info(self):\n",
    "        print(f\"Developer: {self.name}\")\n",
    "        print(f\"Role: {self.role}\")\n",
    "        print(f\"Programming Language: {self.programming_language}\")"
   ]
  },
  {
   "cell_type": "code",
   "execution_count": null,
   "metadata": {},
   "outputs": [],
   "source": [
    "# Creating objects\n",
    "e = Employee(\"Alice\", \"Manager\")\n",
    "d = Developer(\"Bob\", \"Software Engineer\", \"Python\")"
   ]
  },
  {
   "cell_type": "code",
   "execution_count": null,
   "metadata": {},
   "outputs": [],
   "source": [
    "# Calling show_info method\n",
    "e.show_info()\n",
    "d.show_info()"
   ]
  },
  {
   "cell_type": "markdown",
   "metadata": {},
   "source": [
    "### Explanation:\n",
    "\n",
    "1. **Parent Class**: The `Employee` class has two attributes: `name` and `role`.\n",
    "   - It also defines a `show_info()` method that prints out these attributes.\n",
    "\n",
    "2. **Child Class**: The `Developer` class inherits from `Employee`.\n",
    "   - It has a third attribute, `programming_language`, specific to developers.\n",
    "   - The `show_info()` method is **overridden** in the `Developer` class to customize the display and include the `programming_language`.\n",
    "\n",
    "3. When `show_info()` is called on objects of both `Employee` and `Developer`, the method of the **child class** (`Developer`) gets executed because it **overrides** the parent class method.\n",
    "\n",
    "---\n",
    "\n",
    "### **Example with Multiple Attributes in Parent and Child Classes**"
   ]
  },
  {
   "cell_type": "code",
   "execution_count": null,
   "metadata": {},
   "outputs": [],
   "source": [
    "class Employee:\n",
    "    def __init__(self, name, role, salary):\n",
    "        self.name = name\n",
    "        self.role = role\n",
    "        self.salary = salary\n",
    "        \n",
    "    def show_info(self):\n",
    "        print(f\"Employee: {self.name}\")\n",
    "        print(f\"Role: {self.role}\")\n",
    "        print(f\"Salary: ${self.salary}\")\n",
    "\n",
    "# Child class with method overriding\n",
    "class Manager(Employee):\n",
    "    def __init__(self, name, role, salary, department):\n",
    "        # Initialize the parent class' attributes\n",
    "        super().__init__(name, role, salary)\n",
    "        self.department = department\n",
    "        \n",
    "    # Overriding show_info to add department info\n",
    "    def show_info(self):\n",
    "        print(f\"Manager: {self.name}\")\n",
    "        print(f\"Role: {self.role}\")\n",
    "        print(f\"Salary: ${self.salary}\")\n",
    "        print(f\"Department: {self.department}\")"
   ]
  },
  {
   "cell_type": "code",
   "execution_count": null,
   "metadata": {},
   "outputs": [],
   "source": [
    "# Creating objects\n",
    "emp = Employee(\"Alice\", \"Employee\", 50000)\n",
    "mgr = Manager(\"John\", \"Manager\", 80000, \"Sales\")"
   ]
  },
  {
   "cell_type": "code",
   "execution_count": null,
   "metadata": {},
   "outputs": [],
   "source": [
    "emp.show_info()\n",
    "mgr.show_info()"
   ]
  },
  {
   "cell_type": "markdown",
   "metadata": {},
   "source": [
    "### Key Points:\n",
    "\n",
    "- The **Employee** class now includes a third attribute, `salary`, and the `Manager` class has its own specific attribute `department`.\n",
    "- In the `Manager` class, we **override** the `show_info()` method to display all the attributes, including the extra one (`department`), while still showing the inherited attributes (`name`, `role`, and `salary`).\n",
    "- **Method overriding** ensures that we can tailor the behavior of inherited methods in child classes, especially when extra attributes or behavior are needed.\n"
   ]
  },
  {
   "cell_type": "markdown",
   "metadata": {},
   "source": [
    "\n",
    "## Best Practices\n",
    "\n",
    "- Use inheritance **only when there's a true \"is-a\" relationship**.\n",
    "- Prefer **composition** over inheritance for loosely connected features.\n",
    "- Avoid deep inheritance trees — they’re harder to manage.\n",
    "- Use `super()` to ensure consistent and maintainable constructor chaining.\n",
    "\n",
    "## Quick Recap\n",
    "\n",
    "| Concept               | Explanation |\n",
    "|-----------------------|-------------|\n",
    "| **Inheritance**        | Enables a class to inherit from another class. |\n",
    "| **super()**            | Calls the parent class’s constructor or methods. |\n",
    "| **Method Overriding**  | Rewriting a method in the child class. |\n",
    "| **Multiple Inheritance** | Inheriting from more than one class. |\n",
    "| **MRO**                | Determines the order Python uses to resolve methods. |"
   ]
  },
  {
   "cell_type": "code",
   "execution_count": null,
   "metadata": {},
   "outputs": [],
   "source": []
  }
 ],
 "metadata": {
  "kernelspec": {
   "display_name": "base",
   "language": "python",
   "name": "python3"
  },
  "language_info": {
   "codemirror_mode": {
    "name": "ipython",
    "version": 3
   },
   "file_extension": ".py",
   "mimetype": "text/x-python",
   "name": "python",
   "nbconvert_exporter": "python",
   "pygments_lexer": "ipython3",
   "version": "3.12.7"
  }
 },
 "nbformat": 4,
 "nbformat_minor": 2
}
