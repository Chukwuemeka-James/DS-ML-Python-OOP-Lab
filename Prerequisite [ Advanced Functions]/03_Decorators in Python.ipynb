{
 "cells": [
  {
   "cell_type": "markdown",
   "metadata": {},
   "source": [
    "# **Decorators in Python**\n",
    "\n",
    "### What Is a Decorator?\n",
    "\n",
    "A **decorator** in Python is a callable (usually a function) that takes another function or method as an argument, wraps (or “decorates”) it in additional behavior, and returns a new callable. Decorators allow you to modify or extend the behavior of functions or methods **without** changing their source code.\n",
    "\n",
    "\n",
    "###  Why Use Decorators?\n",
    "\n",
    "- **Separation of Concerns**: Encapsulate cross‑cutting concerns (e.g., logging, timing, caching) in reusable wrappers.\n",
    "- **DRY Principle**: Avoid repeating common code across multiple functions.\n",
    "- **Readability**: Apply behavior with a clean, declarative `@decorator` syntax rather than manual wrapping.\n",
    "\n",
    "---\n",
    "\n",
    "### Functions as First‑Class Citizens\n",
    "\n",
    "Before diving into decorators, recall that in Python:\n",
    "\n",
    "- Functions can be **passed as arguments**  \n",
    "- Functions can **return** other functions  \n",
    "- Functions can be **assigned to variables**"
   ]
  },
  {
   "cell_type": "code",
   "execution_count": 1,
   "metadata": {},
   "outputs": [],
   "source": [
    "def greet(name):\n",
    "    return f\"Hello, {name}\""
   ]
  },
  {
   "cell_type": "code",
   "execution_count": null,
   "metadata": {},
   "outputs": [
    {
     "name": "stdout",
     "output_type": "stream",
     "text": [
      "Hello, Alice\n"
     ]
    }
   ],
   "source": [
    "# assign function\n",
    "say_hello = greet          \n",
    "print(say_hello(\"Alice\")) "
   ]
  },
  {
   "cell_type": "markdown",
   "metadata": {},
   "source": [
    "## Simple Decorator Pattern  \n",
    "### 1. Writing the Decorator "
   ]
  },
  {
   "cell_type": "code",
   "execution_count": 7,
   "metadata": {},
   "outputs": [],
   "source": [
    "def my_decorator_function(func):\n",
    "    def wrapper_fucntion():\n",
    "        print(\"Before call\")\n",
    "        func()\n",
    "        print(\"After call\")\n",
    "    return wrapper_fucntion"
   ]
  },
  {
   "cell_type": "markdown",
   "metadata": {},
   "source": [
    "- **`func`**: original function passed in.  \n",
    "- **`wrapper`**: new function adding behavior around `func()`.  \n",
    "\n",
    "### 2. Applying Manually  "
   ]
  },
  {
   "cell_type": "code",
   "execution_count": 9,
   "metadata": {},
   "outputs": [
    {
     "name": "stdout",
     "output_type": "stream",
     "text": [
      "Before call\n",
      "Hello!\n",
      "After call\n"
     ]
    }
   ],
   "source": [
    "def say_hello():\n",
    "    print(\"Hello!\")\n",
    "\n",
    "say_hello_display = my_decorator_function(say_hello)\n",
    "say_hello_display()"
   ]
  },
  {
   "cell_type": "markdown",
   "metadata": {},
   "source": [
    "## The `@` Syntax Sugar  \n",
    "- Instead of manual reassignment, use `@my_decorator_function` above the function definition:"
   ]
  },
  {
   "cell_type": "code",
   "execution_count": 10,
   "metadata": {},
   "outputs": [
    {
     "name": "stdout",
     "output_type": "stream",
     "text": [
      "Before call\n",
      "Goodbye!\n",
      "After call\n"
     ]
    }
   ],
   "source": [
    "@my_decorator_function\n",
    "def say_goodbye():\n",
    "    print(\"Goodbye!\")\n",
    "\n",
    "say_goodbye()  # runs wrapper around original"
   ]
  },
  {
   "cell_type": "code",
   "execution_count": 12,
   "metadata": {},
   "outputs": [
    {
     "name": "stdout",
     "output_type": "stream",
     "text": [
      "display_info ran with arguments (James, 18)\n"
     ]
    }
   ],
   "source": [
    "def display_info(name, age):\n",
    "    print('display_info ran with arguments ({}, {})'.format(name, age))\n",
    "\n",
    "display_info(\"James\", \"18\")"
   ]
  },
  {
   "cell_type": "markdown",
   "metadata": {},
   "source": [
    "### Let's try applying the our decorator `my_decorator_function` to the `display_info` function."
   ]
  },
  {
   "cell_type": "code",
   "execution_count": null,
   "metadata": {},
   "outputs": [
    {
     "ename": "TypeError",
     "evalue": "my_decorator_function.<locals>.wrapper_fucntion() takes 0 positional arguments but 2 were given",
     "output_type": "error",
     "traceback": [
      "\u001b[0;31m---------------------------------------------------------------------------\u001b[0m",
      "\u001b[0;31mTypeError\u001b[0m                                 Traceback (most recent call last)",
      "Cell \u001b[0;32mIn[13], line 5\u001b[0m\n\u001b[1;32m      1\u001b[0m \u001b[38;5;129m@my_decorator_function\u001b[39m\n\u001b[1;32m      2\u001b[0m \u001b[38;5;28;01mdef\u001b[39;00m \u001b[38;5;21mdisplay_info\u001b[39m(name, age):\n\u001b[1;32m      3\u001b[0m     \u001b[38;5;28mprint\u001b[39m(\u001b[38;5;124m'\u001b[39m\u001b[38;5;124mdisplay_info ran with arguments (\u001b[39m\u001b[38;5;132;01m{}\u001b[39;00m\u001b[38;5;124m, \u001b[39m\u001b[38;5;132;01m{}\u001b[39;00m\u001b[38;5;124m)\u001b[39m\u001b[38;5;124m'\u001b[39m\u001b[38;5;241m.\u001b[39mformat(name, age))\n\u001b[0;32m----> 5\u001b[0m display_info(\u001b[38;5;124m\"\u001b[39m\u001b[38;5;124mJames\u001b[39m\u001b[38;5;124m\"\u001b[39m, \u001b[38;5;124m\"\u001b[39m\u001b[38;5;124m18\u001b[39m\u001b[38;5;124m\"\u001b[39m)\n",
      "\u001b[0;31mTypeError\u001b[0m: my_decorator_function.<locals>.wrapper_fucntion() takes 0 positional arguments but 2 were given"
     ]
    }
   ],
   "source": [
    "@my_decorator_function\n",
    "def display_info(name, age):\n",
    "    print('display_info ran with arguments ({}, {})'.format(name, age))\n",
    "\n",
    "display_info(\"James\", \"18\")"
   ]
  },
  {
   "cell_type": "markdown",
   "metadata": {},
   "source": [
    "**To avoid the above error we have to use the `*args`, and `**kwargs` argument in the wrpper function definition.**\n",
    "\n",
    "Note: `args and kwargs` are just convention, you use any name."
   ]
  },
  {
   "cell_type": "code",
   "execution_count": 17,
   "metadata": {},
   "outputs": [],
   "source": [
    "def my_decorator_function(func):\n",
    "    def wrapper(*args, **kwargs):\n",
    "        print(\"wrapper executed this before {}\".format(func.__name__))\n",
    "        return func(*args, **kwargs)\n",
    "    return wrapper"
   ]
  },
  {
   "cell_type": "code",
   "execution_count": 18,
   "metadata": {},
   "outputs": [
    {
     "name": "stdout",
     "output_type": "stream",
     "text": [
      "wrapper executed this before display_info\n",
      "display_info ran with arguments (James, 18)\n"
     ]
    }
   ],
   "source": [
    "# Let's try again with the upfated function\n",
    "\n",
    "@my_decorator_function\n",
    "def display_info(name, age):\n",
    "    print('display_info ran with arguments ({}, {})'.format(name, age))\n",
    "\n",
    "display_info(\"James\", \"18\")"
   ]
  },
  {
   "cell_type": "markdown",
   "metadata": {},
   "source": [
    "### Applications of Decorators\n",
    "\n",
    "1. **Logging:** Create a function that automatically logs every call to a function—capturing its positional and keyword arguments."
   ]
  },
  {
   "cell_type": "code",
   "execution_count": null,
   "metadata": {},
   "outputs": [],
   "source": [
    "def my_logger(func):\n",
    "    import logging\n",
    "    # Configure logging: write INFO level logs to a file named after the function\n",
    "    logging.basicConfig(\n",
    "        filename=f'{func.__name__}.log',\n",
    "        level=logging.INFO\n",
    "    )\n",
    "\n",
    "    def wrapper(*args, **kwargs):\n",
    "        # Log the function call with its positional and keyword arguments\n",
    "        logging.info(f'Ran with args: {args}, and kwargs: {kwargs}')\n",
    "        # Call the original function and return its result\n",
    "        return func(*args, **kwargs)\n",
    "\n",
    "    return wrapper"
   ]
  },
  {
   "cell_type": "markdown",
   "metadata": {},
   "source": [
    "##### **How it works:**  \n",
    "  1. On decoration, configures Python’s logging to write to a file named after the function.  \n",
    "  2. Wraps the original function in `wrapper()`.  \n",
    "  3. Each time the function is called, `wrapper` logs the call details, then invokes the original function and returns its result.  "
   ]
  },
  {
   "cell_type": "code",
   "execution_count": 35,
   "metadata": {},
   "outputs": [
    {
     "name": "stdout",
     "output_type": "stream",
     "text": [
      "display_info ran with arguments (Johnson, 24)\n"
     ]
    }
   ],
   "source": [
    "# use @my_logger as decorator\n",
    "\n",
    "@my_logger\n",
    "def display_info(name, age):\n",
    "    print('display_info ran with arguments ({}, {})'.format(name, age))\n",
    "\n",
    "display_info(\"Johnson\", \"24\")"
   ]
  },
  {
   "cell_type": "markdown",
   "metadata": {},
   "source": [
    "**2. Timing:** Decorators can also be used for timing how long a function run."
   ]
  },
  {
   "cell_type": "code",
   "execution_count": null,
   "metadata": {},
   "outputs": [],
   "source": [
    "def my_timer(func):\n",
    "    import time\n",
    "\n",
    "    def wrapper(*args, **kwargs):\n",
    "        # Record the start time\n",
    "        t1 = time.time()\n",
    "        # Execute the original function and store its result\n",
    "        result = func(*args, **kwargs)\n",
    "        # Record the end time\n",
    "        t2 = time.time()\n",
    "        # Calculate and print the elapsed time\n",
    "        print(f'{func.__name__} ran in: {t2 - t1:.4f} sec')\n",
    "        # Return the original function’s result\n",
    "        return result\n",
    "\n",
    "    return wrapper"
   ]
  },
  {
   "cell_type": "markdown",
   "metadata": {},
   "source": [
    "**How it works:**  \n",
    "\n",
    "The `my_timer` decorator measures how long a function takes to execute. It wraps the original function in `wrapper()`, records the time immediately before and after the call, prints the elapsed duration, and then returns the function’s result, providing an easy way to benchmark any function by simply adding `@my_timer` above its definition."
   ]
  },
  {
   "cell_type": "code",
   "execution_count": null,
   "metadata": {},
   "outputs": [
    {
     "name": "stdout",
     "output_type": "stream",
     "text": [
      "display_info ran with arguments (Johnson, 24)\n",
      "display_info ran in: 0.0001 sec\n"
     ]
    }
   ],
   "source": [
    "@my_timer\n",
    "def display_info(name, age):\n",
    "    print('display_info ran with arguments ({}, {})'.format(name, age))\n",
    "\n",
    "display_info(\"Johnson\", \"24\")"
   ]
  },
  {
   "cell_type": "markdown",
   "metadata": {},
   "source": [
    "### How to apply multiple decorators to one function?\n",
    "\n",
    "### **`Decorator stacking`**\n",
    "\n",
    "**We can do that by stacking the decorators ontop of each other.**"
   ]
  },
  {
   "cell_type": "code",
   "execution_count": null,
   "metadata": {},
   "outputs": [
    {
     "name": "stdout",
     "output_type": "stream",
     "text": [
      "display_info ran with arguments (Daniel, 25)\n",
      "wrapper ran in: 0.0049 sec\n"
     ]
    }
   ],
   "source": [
    "@my_timer\n",
    "@my_logger\n",
    "def display_info(name, age):\n",
    "    print('display_info ran with arguments ({}, {})'.format(name, age))\n",
    "\n",
    "display_info(\"Daniel\", \"25\")"
   ]
  },
  {
   "cell_type": "markdown",
   "metadata": {},
   "source": [
    "### *It seems as though we are using these two decorators on separte functions*"
   ]
  },
  {
   "cell_type": "code",
   "execution_count": 41,
   "metadata": {},
   "outputs": [
    {
     "name": "stdout",
     "output_type": "stream",
     "text": [
      "display_info ran with arguments (Daniel, 25)\n",
      "display_info ran in: 0.0001 sec\n"
     ]
    }
   ],
   "source": [
    "@my_logger\n",
    "@my_timer\n",
    "def display_info(name, age):\n",
    "    print('display_info ran with arguments ({}, {})'.format(name, age))\n",
    "\n",
    "display_info(\"Daniel\", \"25\")"
   ]
  },
  {
   "cell_type": "markdown",
   "metadata": {},
   "source": [
    "### Observe the difference in the output as a result of the stacking arrangement?\n",
    "\n",
    "1. **Implementation A:**\n",
    "```\n",
    "@my_timer\n",
    "@my_logger\n",
    "def func(...):\n",
    "    ...\n",
    "```\n",
    "\n",
    "The above is equivalent to func = **`my_timer(my_logger(func))`**\n",
    "\n",
    "\n",
    "2. **Implementation B:**\n",
    "```\n",
    "@my_logger\n",
    "@my_logger\n",
    "def func(...):\n",
    "    ...\n",
    "```\n",
    "\n",
    "The above is equivalent to func = **`my_logger(my_logger(func))`**\n",
    "\n",
    "\n",
    "**To solve all these confusion we can use `functools` package in python as follows**"
   ]
  },
  {
   "cell_type": "code",
   "execution_count": 42,
   "metadata": {},
   "outputs": [],
   "source": [
    "from functools import wraps\n",
    "\n",
    "# 1. Adding wrapper to logger\n",
    "\n",
    "def my_logger(func):\n",
    "    import logging\n",
    "    # Configure logging: write INFO level logs to a file named after the function\n",
    "    logging.basicConfig(\n",
    "        filename=f'{func.__name__}.log',\n",
    "        level=logging.INFO\n",
    "    )\n",
    "\n",
    "    @wraps(func)\n",
    "    def wrapper(*args, **kwargs):\n",
    "        # Log the function call with its positional and keyword arguments\n",
    "        logging.info(f'Ran with args: {args}, and kwargs: {kwargs}')\n",
    "        # Call the original function and return its result\n",
    "        return func(*args, **kwargs)\n",
    "\n",
    "    return wrapper\n",
    "\n",
    "\n",
    "# 2. # Adding wrapper to Timer \n",
    "\n",
    "def my_timer(func):\n",
    "    import time\n",
    "\n",
    "    @wraps(func)\n",
    "    def wrapper(*args, **kwargs):\n",
    "        # Record the start time\n",
    "        t1 = time.time()\n",
    "        # Execute the original function and store its result\n",
    "        result = func(*args, **kwargs)\n",
    "        # Record the end time\n",
    "        t2 = time.time()\n",
    "        # Calculate and print the elapsed time\n",
    "        print(f'{func.__name__} ran in: {t2 - t1:.4f} sec')\n",
    "        # Return the original function’s result\n",
    "        return result\n",
    "\n",
    "    return wrapper"
   ]
  },
  {
   "cell_type": "code",
   "execution_count": 43,
   "metadata": {},
   "outputs": [
    {
     "name": "stdout",
     "output_type": "stream",
     "text": [
      "display_info ran with arguments (Jacob, 22)\n",
      "display_info ran in: 0.0001 sec\n"
     ]
    }
   ],
   "source": [
    "@my_logger\n",
    "@my_timer\n",
    "def display_info(name, age):\n",
    "    print('display_info ran with arguments ({}, {})'.format(name, age))\n",
    "\n",
    "display_info(\"Jacob\", \"22\")"
   ]
  },
  {
   "cell_type": "code",
   "execution_count": 44,
   "metadata": {},
   "outputs": [
    {
     "name": "stdout",
     "output_type": "stream",
     "text": [
      "display_info ran with arguments (Jacob, 22)\n",
      "display_info ran in: 0.0002 sec\n"
     ]
    }
   ],
   "source": [
    "@my_timer\n",
    "@my_logger\n",
    "def display_info(name, age):\n",
    "    print('display_info ran with arguments ({}, {})'.format(name, age))\n",
    "\n",
    "display_info(\"Jacob\", \"22\")"
   ]
  },
  {
   "cell_type": "markdown",
   "metadata": {},
   "source": [
    "##### Now we can clearly see that the arrangements don't matter any more.\n",
    "---\n",
    "## Class‑Based Decorators  \n",
    "- **Alternative** to function decorators: use a class with `__call__`:"
   ]
  },
  {
   "cell_type": "code",
   "execution_count": 19,
   "metadata": {},
   "outputs": [],
   "source": [
    "class DecoratorClass:\n",
    "    def __init__(self, func):\n",
    "        self.func = func\n",
    "\n",
    "    def __call__(self, *args, **kwargs):\n",
    "        print(\"Call method executed this before {}\".format(self.func.__name__))\n",
    "        return self.func(*args, **kwargs)"
   ]
  },
  {
   "cell_type": "code",
   "execution_count": 20,
   "metadata": {},
   "outputs": [
    {
     "name": "stdout",
     "output_type": "stream",
     "text": [
      "Call method executed this before display_info\n",
      "display_info ran with arguments (James, 18)\n"
     ]
    }
   ],
   "source": [
    "@DecoratorClass\n",
    "def display_info(name, age):\n",
    "    print('display_info ran with arguments ({}, {})'.format(name, age))\n",
    "\n",
    "display_info(\"James\", \"18\")"
   ]
  },
  {
   "cell_type": "code",
   "execution_count": 22,
   "metadata": {},
   "outputs": [
    {
     "name": "stdout",
     "output_type": "stream",
     "text": [
      "Call method executed this before say_goodbye\n",
      "Goodbye!\n"
     ]
    }
   ],
   "source": [
    "@DecoratorClass\n",
    "def say_goodbye():\n",
    "    print(\"Goodbye!\")\n",
    "\n",
    "say_goodbye()"
   ]
  },
  {
   "cell_type": "markdown",
   "metadata": {},
   "source": [
    "## Common Real‑World Decorators  \n",
    "- **`@staticmethod`** / **`@classmethod`** (built‑in)  \n",
    "- **`@property`**, **`@cached_property`**  \n",
    "- Third‑party: **`@login_required`**, **`@app.route`**, **`@lru_cache`**, **`@retry`**, **`@rate_limit`**, etc."
   ]
  },
  {
   "cell_type": "markdown",
   "metadata": {},
   "source": []
  }
 ],
 "metadata": {
  "kernelspec": {
   "display_name": "base",
   "language": "python",
   "name": "python3"
  },
  "language_info": {
   "codemirror_mode": {
    "name": "ipython",
    "version": 3
   },
   "file_extension": ".py",
   "mimetype": "text/x-python",
   "name": "python",
   "nbconvert_exporter": "python",
   "pygments_lexer": "ipython3",
   "version": "3.12.7"
  }
 },
 "nbformat": 4,
 "nbformat_minor": 2
}
