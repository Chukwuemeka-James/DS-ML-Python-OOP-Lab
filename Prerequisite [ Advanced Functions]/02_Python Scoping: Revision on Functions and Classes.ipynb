{
 "cells": [
  {
   "cell_type": "markdown",
   "metadata": {},
   "source": [
    "# **Python Scoping: Global vs Local**\n",
    "\n",
    "### **Learning Objectives**\n",
    "\n",
    "By the end of this lesson, you’ll be able to:\n",
    "\n",
    "- Distinguish between global, local, and enclosing scopes.\n",
    "- Understand how Python resolves variable names (LEGB Rule).\n",
    "- Modify global variables safely.\n",
    "- Predict behavior with mutable and immutable types in scope.\n",
    "- Use `nonlocal` and `global` effectively.\n",
    "\n",
    "\n",
    "### 1. Understanding Namespaces and Scope\n",
    "\n",
    "In Python, a **namespace** is a mapping between **names** and **objects**. A **scope** defines the region in which this mapping is valid.\n",
    "\n",
    "Every Python execution context (script, function, class, module) creates a **scope**.\n",
    "\n",
    "\n",
    "### 2. LEGB Rule: How Python Resolves Names\n",
    "\n",
    "Python searches for variable names in the following order:\n",
    "\n",
    "| Level      | Description                                  |\n",
    "|------------|----------------------------------------------|\n",
    "| **L**ocal   | Names assigned within a function (inner scope) |\n",
    "| **E**nclosing | Names in outer function (useful for closures) |\n",
    "| **G**lobal  | Names defined at the top-level of the module |\n",
    "| **B**uilt-in| Names pre-defined in Python (e.g., `len`, `sum`) |\n",
    "\n",
    "Python walks up the **scope chain**—from local to global—when it tries to resolve a name.\n",
    "\n",
    "## Example: Full LEGB Rule in Action"
   ]
  },
  {
   "cell_type": "code",
   "execution_count": 7,
   "metadata": {},
   "outputs": [],
   "source": [
    "x = \"global variable\"\n",
    "\n",
    "def outer():\n",
    "    x = \"enclosing variable\"\n",
    "    \n",
    "    def inner():\n",
    "        x = \"local variable\"\n",
    "        print(\"Inner:\", x)\n",
    "    \n",
    "    inner()\n",
    "    print(\"Outer:\", x)"
   ]
  },
  {
   "cell_type": "code",
   "execution_count": 8,
   "metadata": {},
   "outputs": [
    {
     "name": "stdout",
     "output_type": "stream",
     "text": [
      "Inner: local variable\n",
      "Outer: enclosing variable\n"
     ]
    }
   ],
   "source": [
    "outer()"
   ]
  },
  {
   "cell_type": "code",
   "execution_count": 9,
   "metadata": {},
   "outputs": [
    {
     "name": "stdout",
     "output_type": "stream",
     "text": [
      "Global: global variable\n"
     ]
    }
   ],
   "source": [
    "print(\"Global:\", x)"
   ]
  },
  {
   "cell_type": "markdown",
   "metadata": {},
   "source": [
    "## `global` vs `nonlocal` Keywords\n",
    "\n",
    "### `global` — Access & modify a global variable inside a function"
   ]
  },
  {
   "cell_type": "code",
   "execution_count": 11,
   "metadata": {},
   "outputs": [],
   "source": [
    "counter = 0  # Global variable\n",
    "\n",
    "def outer_function():\n",
    "    global counter\n",
    "    counter += 1\n",
    "    print(\"Inside outer_function, counter:\", counter)"
   ]
  },
  {
   "cell_type": "code",
   "execution_count": 12,
   "metadata": {},
   "outputs": [
    {
     "name": "stdout",
     "output_type": "stream",
     "text": [
      "Before calling outer_function: 0\n"
     ]
    }
   ],
   "source": [
    "print(\"Before calling outer_function:\", counter)\n"
   ]
  },
  {
   "cell_type": "code",
   "execution_count": 13,
   "metadata": {},
   "outputs": [
    {
     "name": "stdout",
     "output_type": "stream",
     "text": [
      "Inside outer_function, counter: 1\n"
     ]
    }
   ],
   "source": [
    "outer_function()"
   ]
  },
  {
   "cell_type": "code",
   "execution_count": 14,
   "metadata": {},
   "outputs": [
    {
     "name": "stdout",
     "output_type": "stream",
     "text": [
      "After calling outer_function: 1\n"
     ]
    }
   ],
   "source": [
    "print(\"After calling outer_function:\", counter)"
   ]
  },
  {
   "cell_type": "markdown",
   "metadata": {},
   "source": [
    "### `nonlocal` — Access & modify variables in **enclosing** (non-global) scope\n"
   ]
  },
  {
   "cell_type": "code",
   "execution_count": 15,
   "metadata": {},
   "outputs": [],
   "source": [
    "def outer_function():\n",
    "    counter = 0  # This variable is local to outer_function\n",
    "\n",
    "    def inner_function():\n",
    "        nonlocal counter  # refers to counter in the enclosing function\n",
    "        counter += 1\n",
    "        print(\"Inner counter:\", counter)\n",
    "\n",
    "    print(\"Before inner_function:\", counter)\n",
    "    inner_function()\n",
    "    print(\"After inner_function:\", counter)\n"
   ]
  },
  {
   "cell_type": "code",
   "execution_count": 16,
   "metadata": {},
   "outputs": [
    {
     "name": "stdout",
     "output_type": "stream",
     "text": [
      "Before inner_function: 0\n",
      "Inner counter: 1\n",
      "After inner_function: 1\n"
     ]
    }
   ],
   "source": [
    "outer_function()"
   ]
  },
  {
   "cell_type": "markdown",
   "metadata": {},
   "source": [
    "## Mutable vs Immutable Variables and Scope in Python\n",
    "\n",
    "Understanding the **difference between mutable and immutable variables** is crucial when dealing with **variable scope**, especially in **functions** and **class-based models**.\n",
    "\n",
    "### Core Idea:\n",
    "\n",
    "- **Immutable objects** (like `int`, `float`, `str`, `tuple`) **cannot be changed in place**. Assigning to them inside a function **creates a new local variable** unless `global` or `nonlocal` is used.\n",
    "- **Mutable objects** (like `list`, `dict`, `set`) **can be modified in place**, even within a local scope.\n",
    "\n",
    "### Immutable Example: The `int` Pitfall"
   ]
  },
  {
   "cell_type": "code",
   "execution_count": 19,
   "metadata": {},
   "outputs": [],
   "source": [
    "x = 5  # Global variable (immutable)\n",
    "\n",
    "def change_x():\n",
    "    x = x + 1   # UnboundLocalError: local variable 'x' referenced before assignment\n",
    "    print(x)"
   ]
  },
  {
   "cell_type": "code",
   "execution_count": 20,
   "metadata": {},
   "outputs": [
    {
     "ename": "UnboundLocalError",
     "evalue": "cannot access local variable 'x' where it is not associated with a value",
     "output_type": "error",
     "traceback": [
      "\u001b[0;31m---------------------------------------------------------------------------\u001b[0m",
      "\u001b[0;31mUnboundLocalError\u001b[0m                         Traceback (most recent call last)",
      "Cell \u001b[0;32mIn[20], line 1\u001b[0m\n\u001b[0;32m----> 1\u001b[0m change_x()\n",
      "Cell \u001b[0;32mIn[19], line 4\u001b[0m, in \u001b[0;36mchange_x\u001b[0;34m()\u001b[0m\n\u001b[1;32m      3\u001b[0m \u001b[38;5;28;01mdef\u001b[39;00m \u001b[38;5;21mchange_x\u001b[39m():\n\u001b[0;32m----> 4\u001b[0m     x \u001b[38;5;241m=\u001b[39m x \u001b[38;5;241m+\u001b[39m \u001b[38;5;241m1\u001b[39m   \u001b[38;5;66;03m# UnboundLocalError: local variable 'x' referenced before assignment\u001b[39;00m\n\u001b[1;32m      5\u001b[0m     \u001b[38;5;28mprint\u001b[39m(x)\n",
      "\u001b[0;31mUnboundLocalError\u001b[0m: cannot access local variable 'x' where it is not associated with a value"
     ]
    }
   ],
   "source": [
    "change_x()"
   ]
  },
  {
   "cell_type": "markdown",
   "metadata": {},
   "source": [
    "#### What Went Wrong?\n",
    "\n",
    "- Python assumes `x` is local because you assign to it inside the function.\n",
    "- But you're also trying to read the global `x` before assigning it → error.\n",
    "\n",
    "---\n",
    "\n",
    "### Fix It with `global`"
   ]
  },
  {
   "cell_type": "code",
   "execution_count": 21,
   "metadata": {},
   "outputs": [],
   "source": [
    "x = 5  # Global variable\n",
    "\n",
    "def change_x_fixed():\n",
    "    global x\n",
    "    x = x + 1\n",
    "    print(\"Fixed x:\", x)"
   ]
  },
  {
   "cell_type": "code",
   "execution_count": 22,
   "metadata": {},
   "outputs": [
    {
     "name": "stdout",
     "output_type": "stream",
     "text": [
      "Fixed x: 6\n"
     ]
    }
   ],
   "source": [
    "change_x_fixed()"
   ]
  },
  {
   "cell_type": "code",
   "execution_count": 23,
   "metadata": {},
   "outputs": [
    {
     "name": "stdout",
     "output_type": "stream",
     "text": [
      "Before: 5\n",
      "After: 6\n"
     ]
    }
   ],
   "source": [
    "x = 5\n",
    "\n",
    "def foo():\n",
    "    global x\n",
    "    print(\"Before:\", x)\n",
    "    x += 1\n",
    "    print(\"After:\", x)\n",
    "\n",
    "foo()"
   ]
  },
  {
   "cell_type": "markdown",
   "metadata": {},
   "source": [
    "### With `nonlocal` (inside nested function)"
   ]
  },
  {
   "cell_type": "code",
   "execution_count": 24,
   "metadata": {},
   "outputs": [],
   "source": [
    "def outer():\n",
    "    x = 10  # Enclosing (non-global) scope\n",
    "\n",
    "    def inner():\n",
    "        nonlocal x\n",
    "        x += 5\n",
    "        print(\"Modified in inner():\", x)\n",
    "\n",
    "    inner()\n",
    "    print(\"After inner():\", x)"
   ]
  },
  {
   "cell_type": "code",
   "execution_count": 25,
   "metadata": {},
   "outputs": [
    {
     "name": "stdout",
     "output_type": "stream",
     "text": [
      "Modified in inner(): 15\n",
      "After inner(): 15\n"
     ]
    }
   ],
   "source": [
    "outer()"
   ]
  },
  {
   "cell_type": "markdown",
   "metadata": {},
   "source": [
    "## Mutable Example: Lists Work Differently\n"
   ]
  },
  {
   "cell_type": "code",
   "execution_count": 26,
   "metadata": {},
   "outputs": [],
   "source": [
    "my_list = [1, 2, 3]  # Global mutable object\n",
    "\n",
    "def modify_list():\n",
    "    my_list.append(4)\n",
    "    print(\"Inside function:\", my_list)\n"
   ]
  },
  {
   "cell_type": "code",
   "execution_count": 27,
   "metadata": {},
   "outputs": [
    {
     "name": "stdout",
     "output_type": "stream",
     "text": [
      "Inside function: [1, 2, 3, 4]\n",
      "Outside function: [1, 2, 3, 4]\n"
     ]
    }
   ],
   "source": [
    "modify_list()\n",
    "print(\"Outside function:\", my_list)"
   ]
  },
  {
   "cell_type": "markdown",
   "metadata": {},
   "source": [
    "\n",
    "> **Why no `global`?** You're not reassigning `my_list`, just modifying it in place.\n",
    "\n",
    "---\n",
    "\n",
    "## Summary: Mutability & Scope\n",
    "- **`int`, `str`** are **immutable** and require `global` to modify inside a function (e.g., `x = x + 1`).  \n",
    "- **`list`, `dict`** are **mutable** and can be modified in-place **without** `global` (e.g., `my_list.append(4)`).  \n",
    "- Use `global` only when **reassigning** a global variable, not when **modifying mutable types**.\n"
   ]
  },
  {
   "cell_type": "markdown",
   "metadata": {},
   "source": [
    "# Python Scope in Classes — A Deep Dive\n",
    "\n",
    "## Objective:\n",
    "By the end of this lesson, you will:\n",
    "- Understand Python’s LEGB scope model in class contexts\n",
    "- Differentiate between instance, class, and global scopes\n",
    "- Know when to use `global`, `nonlocal`, or `instance references`.\n",
    "- Avoid common scoping bugs in OOP and ML pipelines\n",
    "\n",
    "\n",
    "## Scope Inside Classes\n",
    "\n",
    "### 1. **Instance Variables (`self`)**\n",
    "An **instance variable** is a variable that is **defined inside a class but assigned within a method (usually `__init__`) using `self`**, and it is **unique to each object (instance) of the class**.\n",
    "\n",
    "### Key Characteristics:\n",
    "- Prefixed with `self`, like `self.name`.\n",
    "- Each object has its **own copy** of instance variables.\n",
    "- Used to **store data that belongs to a specific object**.\n",
    "\n",
    "### Example:\n"
   ]
  },
  {
   "cell_type": "code",
   "execution_count": 30,
   "metadata": {},
   "outputs": [],
   "source": [
    "class DataScientist:\n",
    "    def __init__(self, name, specialty):\n",
    "        self.name = name              # instance variable\n",
    "        self.specialty = specialty    # instance variable"
   ]
  },
  {
   "cell_type": "code",
   "execution_count": 31,
   "metadata": {},
   "outputs": [
    {
     "name": "stdout",
     "output_type": "stream",
     "text": [
      "Alice\n",
      "Bob\n"
     ]
    }
   ],
   "source": [
    "ds1 = DataScientist(\"Alice\", \"NLP\")\n",
    "ds2 = DataScientist(\"Bob\", \"Computer Vision\")\n",
    "\n",
    "print(ds1.name)\n",
    "print(ds2.name) "
   ]
  },
  {
   "cell_type": "markdown",
   "metadata": {},
   "source": [
    "Each object (`ds1`, `ds2`) has its **own values** for `name` and `specialty`. These values are **stored in instance variables**.\n",
    "\n",
    "---\n",
    "\n",
    "### **2. Class Variable – Shared Across All Instances**\n",
    "\n",
    "A **class variable** is a variable that is **defined directly inside a class (not inside a method)** and is **shared among all instances** of that class.\n",
    "\n",
    "### Key Characteristics:\n",
    "- Defined **outside methods**, but **inside the class**.\n",
    "- Shared by **all instances** of the class.\n",
    "- Usually used to store **class-wide information or configuration**.\n",
    "\n",
    "### Example:"
   ]
  },
  {
   "cell_type": "code",
   "execution_count": 32,
   "metadata": {},
   "outputs": [],
   "source": [
    "class Student:\n",
    "    school_name = \"GAIO Academy\"  # class variable"
   ]
  },
  {
   "cell_type": "code",
   "execution_count": 33,
   "metadata": {},
   "outputs": [
    {
     "name": "stdout",
     "output_type": "stream",
     "text": [
      "GAIO Academy\n",
      "GAIO Academy\n"
     ]
    }
   ],
   "source": [
    "s1 = Student()\n",
    "s2 = Student()\n",
    "print(s1.school_name)\n",
    "print(s2.school_name)"
   ]
  },
  {
   "cell_type": "markdown",
   "metadata": {},
   "source": [
    "If you modify via `Student.school_name`, it updates for all. But modifying via `s1.school_name = \"New\"` will create a new **instance variable**!\n"
   ]
  },
  {
   "cell_type": "code",
   "execution_count": 34,
   "metadata": {},
   "outputs": [],
   "source": [
    "class Model:\n",
    "    framework = \"PyTorch\"   # class variable\n",
    "\n",
    "    def __init__(self, name):\n",
    "        self.name = name    # instance variable"
   ]
  },
  {
   "cell_type": "code",
   "execution_count": 35,
   "metadata": {},
   "outputs": [
    {
     "name": "stdout",
     "output_type": "stream",
     "text": [
      "PyTorch\n",
      "PyTorch\n"
     ]
    }
   ],
   "source": [
    "m1 = Model(\"ResNet\")\n",
    "m2 = Model(\"BERT\")\n",
    "\n",
    "print(m1.framework)\n",
    "print(m2.framework)"
   ]
  },
  {
   "cell_type": "code",
   "execution_count": 36,
   "metadata": {},
   "outputs": [
    {
     "name": "stdout",
     "output_type": "stream",
     "text": [
      "TensorFlow\n",
      "TensorFlow\n"
     ]
    }
   ],
   "source": [
    "# Change class variable\n",
    "Model.framework = \"TensorFlow\"\n",
    "\n",
    "print(m1.framework)\n",
    "print(m2.framework)"
   ]
  },
  {
   "cell_type": "markdown",
   "metadata": {},
   "source": [
    "### 3. **Local Variables in Methods**\n",
    "\n",
    "Variables created inside methods are **local to that method**:"
   ]
  },
  {
   "cell_type": "code",
   "execution_count": 37,
   "metadata": {},
   "outputs": [],
   "source": [
    "class Calculator:\n",
    "    def add(self, a, b):\n",
    "        result = a + b  # local variable: No need to use self.a or self.b because a and b are only used within the add method (local scope)\n",
    "        return result"
   ]
  },
  {
   "cell_type": "markdown",
   "metadata": {},
   "source": [
    "**You can test this by creating an instance of the Calculator class and calling the add() method. Since result is a local variable, it will only exist inside the method and won't be accessible outside. Here's how you test it:**"
   ]
  },
  {
   "cell_type": "code",
   "execution_count": 38,
   "metadata": {},
   "outputs": [
    {
     "name": "stdout",
     "output_type": "stream",
     "text": [
      "Result of addition: 15\n"
     ]
    }
   ],
   "source": [
    "# Create instance\n",
    "calc = Calculator()\n",
    "\n",
    "# Call the method\n",
    "sum_result = calc.add(10, 5)\n",
    "print(\"Result of addition:\", sum_result)"
   ]
  },
  {
   "cell_type": "markdown",
   "metadata": {},
   "source": [
    "You can only access `result` through the `add` function.\n",
    "\n",
    "---\n",
    "\n",
    "## Scope Case Study: Class vs Instance vs Global"
   ]
  },
  {
   "cell_type": "code",
   "execution_count": 39,
   "metadata": {},
   "outputs": [],
   "source": [
    "x = \"global\"\n",
    "\n",
    "class Demo:\n",
    "    x = \"class\"\n",
    "\n",
    "    def show(self):\n",
    "        x = \"local\"\n",
    "        print(x)"
   ]
  },
  {
   "cell_type": "code",
   "execution_count": 40,
   "metadata": {},
   "outputs": [
    {
     "name": "stdout",
     "output_type": "stream",
     "text": [
      "local\n"
     ]
    }
   ],
   "source": [
    "d = Demo()\n",
    "d.show() "
   ]
  },
  {
   "cell_type": "markdown",
   "metadata": {},
   "source": [
    "| Scope Level | Variable Value | Access Rule               |\n",
    "|-------------|----------------|---------------------------|\n",
    "| Global      | `\"global\"`     | Module-level access       |\n",
    "| Class       | `\"class\"`      | `Demo.x` or `self.__class__.x` |\n",
    "| Local       | `\"local\"`      | Exists only in `show()`   |\n",
    "\n",
    "---\n",
    "\n",
    "## Accessing & Modifying Global Variables in a Class\n",
    "\n",
    "### Avoid this pattern unless you have a valid reason:"
   ]
  },
  {
   "cell_type": "code",
   "execution_count": 41,
   "metadata": {},
   "outputs": [],
   "source": [
    "counter = 0\n",
    "\n",
    "class Clicker:\n",
    "    def click(self):\n",
    "        global counter\n",
    "        counter += 1"
   ]
  },
  {
   "cell_type": "code",
   "execution_count": 42,
   "metadata": {},
   "outputs": [
    {
     "name": "stdout",
     "output_type": "stream",
     "text": [
      "1\n"
     ]
    }
   ],
   "source": [
    "c = Clicker()\n",
    "c.click()\n",
    "print(counter)"
   ]
  },
  {
   "cell_type": "markdown",
   "metadata": {},
   "source": [
    "## `nonlocal` in Nested Functions Inside Classes\n"
   ]
  },
  {
   "cell_type": "code",
   "execution_count": 43,
   "metadata": {},
   "outputs": [],
   "source": [
    "class Outer:\n",
    "    def outer_method(self):\n",
    "        val = 10\n",
    "        def inner():\n",
    "            nonlocal val\n",
    "            val += 1\n",
    "            print(val)\n",
    "        inner()"
   ]
  },
  {
   "cell_type": "code",
   "execution_count": 44,
   "metadata": {},
   "outputs": [
    {
     "name": "stdout",
     "output_type": "stream",
     "text": [
      "11\n"
     ]
    }
   ],
   "source": [
    "Outer().outer_method()"
   ]
  },
  {
   "cell_type": "markdown",
   "metadata": {},
   "source": [
    "Used when modifying a variable in the **enclosing (but non-global) scope**.\n",
    "\n",
    "---\n",
    "\n",
    "## Advanced Scenario: ML Class Design"
   ]
  },
  {
   "cell_type": "code",
   "execution_count": 45,
   "metadata": {},
   "outputs": [],
   "source": [
    "class MLModel:\n",
    "    total_models = 0  # class var\n",
    "\n",
    "    def __init__(self, name):\n",
    "        self.name = name       # instance var\n",
    "        self.parameters = {}   # instance var\n",
    "        MLModel.total_models += 1  # update class var\n",
    "\n",
    "    def set_param(self, key, value):\n",
    "        self.parameters[key] = value"
   ]
  },
  {
   "cell_type": "code",
   "execution_count": null,
   "metadata": {},
   "outputs": [],
   "source": [
    "# Creat and instance of the class\n",
    "model1 = MLModel(\"LogReg\")\n",
    "\n",
    "# Class method call\n",
    "model1.set_param(\"lr\", 0.01)"
   ]
  },
  {
   "cell_type": "code",
   "execution_count": 47,
   "metadata": {},
   "outputs": [
    {
     "name": "stdout",
     "output_type": "stream",
     "text": [
      "Model 1 Name: LogReg\n",
      "Model 1 Parameters: {'lr': 0.01}\n",
      "Total Models: 1\n"
     ]
    }
   ],
   "source": [
    "# Check model1's attributes\n",
    "print(\"Model 1 Name:\", model1.name)\n",
    "print(\"Model 1 Parameters:\", model1.parameters)\n",
    "print(\"Total Models:\", MLModel.total_models)"
   ]
  },
  {
   "cell_type": "code",
   "execution_count": 48,
   "metadata": {},
   "outputs": [
    {
     "name": "stdout",
     "output_type": "stream",
     "text": [
      "Model 1 Total Models (via class): 1\n"
     ]
    }
   ],
   "source": [
    "# Confirm class variable is shared\n",
    "print(\"Model 1 Total Models (via class):\", model1.total_models)"
   ]
  },
  {
   "cell_type": "markdown",
   "metadata": {},
   "source": [
    "| Variable          | Scope Type | Accessed As            |\n",
    "|-------------------|------------|-------------------------|\n",
    "| `name`            | Instance   | `self.name`             |\n",
    "| `parameters`      | Instance   | `self.parameters`       |\n",
    "| `total_models`    | Class      | `MLModel.total_models`  |"
   ]
  },
  {
   "cell_type": "markdown",
   "metadata": {},
   "source": [
    "## Final Thoughts\n",
    "\n",
    "Understanding scope in classes is **key to mastering OOP in Python**, especially when building data pipelines, model classes, or training workflows in ML.\n",
    "\n",
    "The interplay of **instance, class, and global scope** becomes more critical as your projects scale."
   ]
  },
  {
   "cell_type": "code",
   "execution_count": null,
   "metadata": {},
   "outputs": [],
   "source": []
  }
 ],
 "metadata": {
  "kernelspec": {
   "display_name": "base",
   "language": "python",
   "name": "python3"
  },
  "language_info": {
   "codemirror_mode": {
    "name": "ipython",
    "version": 3
   },
   "file_extension": ".py",
   "mimetype": "text/x-python",
   "name": "python",
   "nbconvert_exporter": "python",
   "pygments_lexer": "ipython3",
   "version": "3.12.7"
  }
 },
 "nbformat": 4,
 "nbformat_minor": 2
}
