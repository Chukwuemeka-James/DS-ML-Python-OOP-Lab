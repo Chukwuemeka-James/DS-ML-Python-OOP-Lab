{
 "cells": [
  {
   "cell_type": "markdown",
   "metadata": {},
   "source": [
    "# Functions in Python for Data Science\n",
    "\n",
    "## **Key Concepts**:\n",
    "#### What is a function? \n",
    "- **A functions is reusable pieces of code.**\n",
    "### What is the main types of function in Python?\n",
    "- **Built in function:** Built-in functions are Python’s pre-packaged tools—always ready to use, e.g., `print()`, `len()`, `sum()`, `max()`.\n",
    "- **User-defined function:** defined functions (created with def) are your custom tools—designed by a user, for specific need(s).\n",
    " \n",
    "**we are going to be looking at how to do the following:**\n",
    "\n",
    "### **A. Built-in Math Functions**  \n",
    "- **Basic Operations**:  `abs()`, `pow()`, `round()`\n",
    "- **Aggregate functions**: `min()`, `max()`, and `sum()`\n",
    "##### **From math package**\n",
    " - **Math Constants**: `pi`, `e`.\n",
    "- **Exponents & Logs**: `exp()`, `log()`, `log10()`, and `sqrt()`\n",
    "- **Special Functions**: `factorial()`, `ceil()`, `floor()`\n",
    "\n",
    "1. **abs()**"
   ]
  },
  {
   "cell_type": "code",
   "execution_count": 10,
   "metadata": {},
   "outputs": [
    {
     "data": {
      "text/plain": [
       "45"
      ]
     },
     "execution_count": 10,
     "metadata": {},
     "output_type": "execute_result"
    }
   ],
   "source": [
    "# The absolute function\n",
    "\n",
    "abs(45)"
   ]
  },
  {
   "cell_type": "code",
   "execution_count": 29,
   "metadata": {},
   "outputs": [
    {
     "data": {
      "text/plain": [
       "20"
      ]
     },
     "execution_count": 29,
     "metadata": {},
     "output_type": "execute_result"
    }
   ],
   "source": [
    "# Using the absolute function\n",
    "\n",
    "abs(-20)"
   ]
  },
  {
   "cell_type": "markdown",
   "metadata": {},
   "source": [
    "**Using `abs()` write a python code that sends a warning message to a greenhouse farm caretaker when the tempreture difference is more or less than `Normal_farm_temp` by  5**"
   ]
  },
  {
   "cell_type": "code",
   "execution_count": 33,
   "metadata": {},
   "outputs": [
    {
     "data": {
      "text/plain": [
       "-6"
      ]
     },
     "execution_count": 33,
     "metadata": {},
     "output_type": "execute_result"
    }
   ],
   "source": [
    "Normal_farm_temp = 23\n",
    "\n",
    "Current_farm_temp = 17\n",
    "\n",
    "Report_System = Current_farm_temp - Normal_farm_temp\n",
    "Report_System"
   ]
  },
  {
   "cell_type": "code",
   "execution_count": 35,
   "metadata": {},
   "outputs": [
    {
     "data": {
      "text/plain": [
       "6"
      ]
     },
     "execution_count": 35,
     "metadata": {},
     "output_type": "execute_result"
    }
   ],
   "source": [
    "abs(Report_System)"
   ]
  },
  {
   "cell_type": "code",
   "execution_count": 19,
   "metadata": {},
   "outputs": [
    {
     "name": "stdout",
     "output_type": "stream",
     "text": [
      "Hellow farm maintainer, you may want to check the condition of the farm\n"
     ]
    }
   ],
   "source": [
    "if abs(Report_System) >= 5:\n",
    "    print(\"Hellow farm maintainer, you may want to check the condition of the farm\")"
   ]
  },
  {
   "cell_type": "code",
   "execution_count": 21,
   "metadata": {},
   "outputs": [
    {
     "data": {
      "text/plain": [
       "-7"
      ]
     },
     "execution_count": 21,
     "metadata": {},
     "output_type": "execute_result"
    }
   ],
   "source": [
    "Normal_farm_temp = 23\n",
    "\n",
    "Current_farm_temp = 16\n",
    "\n",
    "Report_System = Current_farm_temp - Normal_farm_temp\n",
    "Report_System"
   ]
  },
  {
   "cell_type": "code",
   "execution_count": 37,
   "metadata": {},
   "outputs": [
    {
     "name": "stdout",
     "output_type": "stream",
     "text": [
      "Hellow farm maintainer, you may want to check the condition of the farm\n"
     ]
    }
   ],
   "source": [
    "if abs(Report_System) >= 5:\n",
    "    print(\"Hellow farm maintainer, you may want to check the condition of the farm\")"
   ]
  },
  {
   "cell_type": "code",
   "execution_count": 39,
   "metadata": {},
   "outputs": [
    {
     "data": {
      "text/plain": [
       "8"
      ]
     },
     "execution_count": 39,
     "metadata": {},
     "output_type": "execute_result"
    }
   ],
   "source": [
    "# Pow function: Use for raised to power operations\n",
    "\n",
    "pow(2, 3)"
   ]
  },
  {
   "cell_type": "markdown",
   "metadata": {},
   "source": [
    "**Using `pow()` write a python code that multiplies a number by itself**"
   ]
  },
  {
   "cell_type": "code",
   "execution_count": 54,
   "metadata": {},
   "outputs": [],
   "source": [
    "Chosen_Numbers = [30, 40, 50, 42, 77]\n",
    "New_Numbers = []\n",
    "\n",
    "for Number in Chosen_Numbers:\n",
    "    Updated_Number = pow(Number, 2)\n",
    "    New_Numbers.append(Updated_Number)"
   ]
  },
  {
   "cell_type": "code",
   "execution_count": 56,
   "metadata": {},
   "outputs": [
    {
     "data": {
      "text/plain": [
       "[900, 1600, 2500, 1764, 5929]"
      ]
     },
     "execution_count": 56,
     "metadata": {},
     "output_type": "execute_result"
    }
   ],
   "source": [
    "New_Numbers"
   ]
  },
  {
   "cell_type": "markdown",
   "metadata": {},
   "source": [
    "### The `round()` funtion takes zero decimal as default argument, but you can specifify by adding one more argument."
   ]
  },
  {
   "cell_type": "code",
   "execution_count": 59,
   "metadata": {},
   "outputs": [
    {
     "data": {
      "text/plain": [
       "3"
      ]
     },
     "execution_count": 59,
     "metadata": {},
     "output_type": "execute_result"
    }
   ],
   "source": [
    "# round function\n",
    "\n",
    "round(3.4567778654)"
   ]
  },
  {
   "cell_type": "code",
   "execution_count": 63,
   "metadata": {},
   "outputs": [
    {
     "data": {
      "text/plain": [
       "3.46"
      ]
     },
     "execution_count": 63,
     "metadata": {},
     "output_type": "execute_result"
    }
   ],
   "source": [
    "# round function: Using a choice decimal place\n",
    "\n",
    "round(3.4567778654, 2)"
   ]
  },
  {
   "cell_type": "code",
   "execution_count": 67,
   "metadata": {},
   "outputs": [
    {
     "data": {
      "text/plain": [
       "3.457"
      ]
     },
     "execution_count": 67,
     "metadata": {},
     "output_type": "execute_result"
    }
   ],
   "source": [
    "# round function: Using a choice decimal place\n",
    "\n",
    "round(3.4567778654, 3)"
   ]
  },
  {
   "cell_type": "markdown",
   "metadata": {},
   "source": [
    "## Math module examples\n",
    "\n",
    "### 1. Pi (π)\n",
    "- Calculate the the area of a circle with the radius (r) = 4 -> `Area = πr2`\n"
   ]
  },
  {
   "cell_type": "code",
   "execution_count": 69,
   "metadata": {},
   "outputs": [
    {
     "data": {
      "text/plain": [
       "3.141592653589793"
      ]
     },
     "execution_count": 69,
     "metadata": {},
     "output_type": "execute_result"
    }
   ],
   "source": [
    "import math\n",
    "\n",
    "math.pi"
   ]
  },
  {
   "cell_type": "code",
   "execution_count": 71,
   "metadata": {},
   "outputs": [
    {
     "data": {
      "text/plain": [
       "50.26548245743669"
      ]
     },
     "execution_count": 71,
     "metadata": {},
     "output_type": "execute_result"
    }
   ],
   "source": [
    "Area = math.pi*4**2\n",
    "Area"
   ]
  },
  {
   "cell_type": "markdown",
   "metadata": {},
   "source": [
    "### 2. `math.e = (Euler’s number)`\n",
    "One common use case for `math.e` is in **calculating exponential growth or decay**, such as in **compound interest**, **population growth**, or **radioactive decay**.\n",
    "\n",
    "The formula is:\n",
    "\n",
    "$$\n",
    "A = P \\cdot e^{rt}\n",
    "$$\n",
    "\n",
    "\n",
    "Where:\n",
    "- \\( A \\) = final amount after time \\( t \\)\n",
    "- \\( P \\) = principal (initial amount)\n",
    "- \\( r \\) = annual interest rate (in decimal)\n",
    "- \\( t \\) = time (in years)\n",
    "- \\( e \\) = Euler’s number (`math.e` in Python)\n"
   ]
  },
  {
   "cell_type": "code",
   "execution_count": 73,
   "metadata": {},
   "outputs": [],
   "source": [
    "P = 50\n",
    "r =2\n",
    "t=60"
   ]
  },
  {
   "cell_type": "code",
   "execution_count": 75,
   "metadata": {},
   "outputs": [
    {
     "data": {
      "text/plain": [
       "2.718281828459045"
      ]
     },
     "execution_count": 75,
     "metadata": {},
     "output_type": "execute_result"
    }
   ],
   "source": [
    "import math\n",
    "\n",
    "math.e"
   ]
  },
  {
   "cell_type": "code",
   "execution_count": null,
   "metadata": {},
   "outputs": [],
   "source": [
    "A = 50 * (math.e**2*60)"
   ]
  },
  {
   "cell_type": "code",
   "execution_count": 79,
   "metadata": {},
   "outputs": [
    {
     "data": {
      "text/plain": [
       "4.0"
      ]
     },
     "execution_count": 79,
     "metadata": {},
     "output_type": "execute_result"
    }
   ],
   "source": [
    "# Squaroot function\n",
    "\n",
    "math.sqrt(16)"
   ]
  },
  {
   "cell_type": "code",
   "execution_count": 81,
   "metadata": {},
   "outputs": [
    {
     "data": {
      "text/plain": [
       "6.855654600401044"
      ]
     },
     "execution_count": 81,
     "metadata": {},
     "output_type": "execute_result"
    }
   ],
   "source": [
    "# Squaroot function\n",
    "\n",
    "math.sqrt(47)"
   ]
  },
  {
   "cell_type": "code",
   "execution_count": 89,
   "metadata": {},
   "outputs": [
    {
     "data": {
      "text/plain": [
       "4"
      ]
     },
     "execution_count": 89,
     "metadata": {},
     "output_type": "execute_result"
    }
   ],
   "source": [
    "# Using ceil: ROunding up to the closest number\n",
    "\n",
    "math.ceil(3.45666)"
   ]
  },
  {
   "cell_type": "code",
   "execution_count": 93,
   "metadata": {},
   "outputs": [
    {
     "data": {
      "text/plain": [
       "3"
      ]
     },
     "execution_count": 93,
     "metadata": {},
     "output_type": "execute_result"
    }
   ],
   "source": [
    "# Using floor\n",
    "\n",
    "math.floor(3.45666)"
   ]
  },
  {
   "cell_type": "code",
   "execution_count": 95,
   "metadata": {},
   "outputs": [
    {
     "data": {
      "text/plain": [
       "3"
      ]
     },
     "execution_count": 95,
     "metadata": {},
     "output_type": "execute_result"
    }
   ],
   "source": [
    "# Using floor: Rounding down to the closest whole number\n",
    "\n",
    "math.floor(3.66666)"
   ]
  },
  {
   "cell_type": "code",
   "execution_count": 97,
   "metadata": {},
   "outputs": [
    {
     "name": "stdout",
     "output_type": "stream",
     "text": [
      "[3, 4, 5, 6, 7]\n"
     ]
    }
   ],
   "source": [
    "Ceil_test = [2.9, 3.9, 4.8, 5.4,6.2]\n",
    "New_Ceil_list = []\n",
    "\n",
    "for numbers in Ceil_test:\n",
    "    New_number = math.ceil(numbers)\n",
    "    New_Ceil_list.append(New_number)\n",
    "\n",
    "print(New_Ceil_list)  "
   ]
  },
  {
   "cell_type": "markdown",
   "metadata": {},
   "source": [
    "### Using list comprehension"
   ]
  },
  {
   "cell_type": "code",
   "execution_count": 101,
   "metadata": {},
   "outputs": [],
   "source": [
    "# Using list comporehension\n",
    "\n",
    "List_comprehension = [ math.ceil(numbers) for numbers in Ceil_test]"
   ]
  },
  {
   "cell_type": "code",
   "execution_count": 103,
   "metadata": {},
   "outputs": [
    {
     "data": {
      "text/plain": [
       "[3, 4, 5, 6, 7]"
      ]
     },
     "execution_count": 103,
     "metadata": {},
     "output_type": "execute_result"
    }
   ],
   "source": [
    "List_comprehension"
   ]
  },
  {
   "cell_type": "markdown",
   "metadata": {},
   "source": [
    "\n",
    "## **B. User-defined function:**\n",
    "**User-defined functions** are custom functions created using `def` to perform specific tasks.  \n",
    "\n",
    "#### **Key Components**:  \n",
    "1. **`def` Keyword**: Begins the function definition.  \n",
    "2. **Function Name**: Identifier (e.g., `calculate_sum`).  \n",
    "3. **Parameters**: Inputs in parentheses (e.g., `(a, b)`).  \n",
    "4. **Body**: Code block (indented) to execute.  \n",
    "5. **`return`**: Outputs a value (optional).  \n",
    "\n",
    "**We will look at how to:**\n",
    "- Creating a function\n",
    "- Calling a function\n",
    "- Passing positional arguments\n",
    "- Passing keyword arguments\n",
    "\n",
    "#### **1. Creating a Function:**"
   ]
  },
  {
   "cell_type": "code",
   "execution_count": 1,
   "metadata": {},
   "outputs": [],
   "source": [
    "# Example 1: Function with no parameters\n",
    "def greet():\n",
    "    print(\"Hello, world!\")"
   ]
  },
  {
   "cell_type": "code",
   "execution_count": 3,
   "metadata": {},
   "outputs": [
    {
     "name": "stdout",
     "output_type": "stream",
     "text": [
      "Hello, world!\n"
     ]
    }
   ],
   "source": [
    "# Calling the function\n",
    "\n",
    "greet()"
   ]
  },
  {
   "cell_type": "markdown",
   "metadata": {},
   "source": [
    "#### **2. Passing in Positionanl Arguments**  \n"
   ]
  },
  {
   "cell_type": "code",
   "execution_count": null,
   "metadata": {},
   "outputs": [],
   "source": [
    "# Example 1: Function with parameters\n",
    "\n",
    "def multiply(x, y):\n",
    "    return x * y"
   ]
  },
  {
   "cell_type": "code",
   "execution_count": 4,
   "metadata": {},
   "outputs": [
    {
     "name": "stdout",
     "output_type": "stream",
     "text": [
      "28\n"
     ]
    }
   ],
   "source": [
    "print(multiply(4, 7))"
   ]
  },
  {
   "cell_type": "code",
   "execution_count": 5,
   "metadata": {},
   "outputs": [],
   "source": [
    "# Example 2: More parameters\n",
    "def describe_person(name, age, city):\n",
    "    return f\"{name} is {age} years old and lives in {city}.\""
   ]
  },
  {
   "cell_type": "code",
   "execution_count": 6,
   "metadata": {},
   "outputs": [
    {
     "name": "stdout",
     "output_type": "stream",
     "text": [
      "Alice is 30 years old and lives in London.\n"
     ]
    }
   ],
   "source": [
    "# Calling\n",
    "\n",
    "print(describe_person(\"Alice\", 30, \"London\"))"
   ]
  },
  {
   "cell_type": "markdown",
   "metadata": {},
   "source": [
    "#### **3. Passing Keyword Arguments**  \n"
   ]
  },
  {
   "cell_type": "code",
   "execution_count": 7,
   "metadata": {},
   "outputs": [
    {
     "name": "stdout",
     "output_type": "stream",
     "text": [
      "Bob is 25 years old and lives in Paris.\n"
     ]
    }
   ],
   "source": [
    "# Example 1: Keyword args to clarify intent\n",
    "print(describe_person(age=25, city=\"Paris\", name=\"Bob\"))"
   ]
  },
  {
   "cell_type": "code",
   "execution_count": 8,
   "metadata": {},
   "outputs": [],
   "source": [
    "# Example 2: Mix of positional and keyword\n",
    "def schedule(task, day=\"Monday\", time=\"09:00\"):\n",
    "    return f\"Task: {task} on {day} at {time}\""
   ]
  },
  {
   "cell_type": "code",
   "execution_count": 9,
   "metadata": {},
   "outputs": [
    {
     "name": "stdout",
     "output_type": "stream",
     "text": [
      "Task: Review report on Wednesday at 14:30\n"
     ]
    }
   ],
   "source": [
    "# Positional for task, keywords for others\n",
    "print(schedule(\"Review report\", time=\"14:30\", day=\"Wednesday\"))"
   ]
  },
  {
   "cell_type": "markdown",
   "metadata": {},
   "source": [
    "#### **Additional Resources**\n",
    "- [Python Functions Documentation](https://docs.python.org/3/tutorial/controlflow.html#defining-functions)"
   ]
  }
 ],
 "metadata": {
  "kernelspec": {
   "display_name": "base",
   "language": "python",
   "name": "python3"
  },
  "language_info": {
   "codemirror_mode": {
    "name": "ipython",
    "version": 3
   },
   "file_extension": ".py",
   "mimetype": "text/x-python",
   "name": "python",
   "nbconvert_exporter": "python",
   "pygments_lexer": "ipython3",
   "version": "3.12.7"
  }
 },
 "nbformat": 4,
 "nbformat_minor": 4
}
