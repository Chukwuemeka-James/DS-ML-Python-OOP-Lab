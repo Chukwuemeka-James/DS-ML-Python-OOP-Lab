{
 "cells": [
  {
   "cell_type": "markdown",
   "metadata": {},
   "source": [
    "# **Instance Methods, Class Methods, and Static Methods in Python**\n",
    "\n",
    "## **Learning Objectives**\n",
    "By the end of this lecture, you should be able to:\n",
    "\n",
    "1. Define and distinguish between instance methods, class methods, and static methods.\n",
    "2. Identify when and why to use each type of method.\n",
    "3. Implement all three method types using practical examples.\n",
    "4. Understand their relationship to object-oriented programming principles like encapsulation.\n",
    "\n",
    "## **1. Instance Methods**\n",
    "\n",
    "### **Definition**:\n",
    "Instance methods are the most common type of method. They are used to operate on **specific instances** of a class. These methods take `self` as the first parameter, which refers to the object calling the method.\n",
    "\n",
    "### **Key Characteristics**:\n",
    "- Access and modify **instance attributes**.\n",
    "- Must have **`self (the instance reference)`** as the first parameter.\n",
    "- Called on an object (instance) of the class.\n",
    "\n",
    "### **Example (Simple)**:"
   ]
  },
  {
   "cell_type": "code",
   "execution_count": 1,
   "metadata": {},
   "outputs": [],
   "source": [
    "class Employee:\n",
    "    def __init__(self, name, role): # Instance method or Constructor method\n",
    "        self.name = name\n",
    "        self.role = role\n",
    "\n",
    "    def show_info(self): # custom instance method\n",
    "        return f\"Name: {self.name}, Role: {self.role}\""
   ]
  },
  {
   "cell_type": "code",
   "execution_count": 2,
   "metadata": {},
   "outputs": [
    {
     "name": "stdout",
     "output_type": "stream",
     "text": [
      "Name: Alice, Role: Data Scientist\n"
     ]
    }
   ],
   "source": [
    "# Use the instance method\n",
    "\n",
    "e1 = Employee(\"Alice\", \"Data Scientist\")\n",
    "print(e1.show_info()) "
   ]
  },
  {
   "cell_type": "markdown",
   "metadata": {},
   "source": [
    "### **Example (Slightly Complex)**:\n"
   ]
  },
  {
   "cell_type": "code",
   "execution_count": 3,
   "metadata": {},
   "outputs": [],
   "source": [
    "class DataScientist(Employee):\n",
    "    def __init__(self, name, role, tools):\n",
    "        super().__init__(name, role)\n",
    "        self.tools = tools\n",
    "\n",
    "    def list_tools(self):\n",
    "        return f\"{self.name} uses: {', '.join(self.tools)}\""
   ]
  },
  {
   "cell_type": "code",
   "execution_count": 4,
   "metadata": {},
   "outputs": [
    {
     "name": "stdout",
     "output_type": "stream",
     "text": [
      "Name: Bob, Role: ML Engineer\n",
      "Bob uses: Python, Pandas, TensorFlow\n"
     ]
    }
   ],
   "source": [
    "ds = DataScientist(\"Bob\", \"ML Engineer\", [\"Python\", \"Pandas\", \"TensorFlow\"])\n",
    "print(ds.show_info())\n",
    "print(ds.list_tools())"
   ]
  },
  {
   "cell_type": "markdown",
   "metadata": {},
   "source": [
    "## **2. Class Methods**\n",
    "\n",
    "### **Definition**:\n",
    "Class methods operate on the class itself rather than instances. They take `cls` as the first parameter (referring to the **class**). These are useful for creating alternative constructors or methods that affect the whole class.\n",
    "\n",
    "### **Key Characteristics**:\n",
    "- Defined using the `@classmethod` decorator.\n",
    "- Can access or modify **class-level data**.\n",
    "- Use `cls` instead of `self`.\n",
    "\n",
    "### 1. Accessing and modeifying class level data using `@classmethod`\n",
    "\n",
    "#### **Example (Simple)**:"
   ]
  },
  {
   "cell_type": "code",
   "execution_count": 5,
   "metadata": {},
   "outputs": [],
   "source": [
    "class Employee:\n",
    "    company_name = \"Global AI Ocean\"\n",
    "    company_founder = \"Chukwuemela James\"\n",
    "\n",
    "    def __init__(self, name, role):\n",
    "        self.name = name\n",
    "        self.role = role\n",
    "\n",
    "    @classmethod\n",
    "    def get_company_info(cls):\n",
    "        # Accessing class-level data\n",
    "        return f\"Company: {cls.company_name}, Founder: {cls.company_founder}\"\n",
    "\n",
    "    @classmethod\n",
    "    def update_company_name(cls, new_name):\n",
    "        # Modifying class-level data\n",
    "        cls.company_name = new_name\n",
    "\n",
    "    @classmethod\n",
    "    def update_founder(cls, new_founder):\n",
    "        # Modifying another class-level data\n",
    "        cls.company_founder = new_founder\n"
   ]
  },
  {
   "cell_type": "markdown",
   "metadata": {},
   "source": [
    "### **Usage:**"
   ]
  },
  {
   "cell_type": "code",
   "execution_count": 6,
   "metadata": {},
   "outputs": [
    {
     "name": "stdout",
     "output_type": "stream",
     "text": [
      "Company: Global AI Ocean, Founder: Chukwuemela James\n"
     ]
    }
   ],
   "source": [
    "# Accessing class-level data\n",
    "print(Employee.get_company_info())\n"
   ]
  },
  {
   "cell_type": "code",
   "execution_count": 7,
   "metadata": {},
   "outputs": [],
   "source": [
    "# Modifying class-level data using class method\n",
    "Employee.update_company_name(\"Global AI Universe\")\n",
    "Employee.update_founder(\"Dr. James C.\")"
   ]
  },
  {
   "cell_type": "code",
   "execution_count": 8,
   "metadata": {},
   "outputs": [
    {
     "name": "stdout",
     "output_type": "stream",
     "text": [
      "Company: Global AI Universe, Founder: Dr. James C.\n"
     ]
    }
   ],
   "source": [
    "# Accessing again after modification\n",
    "print(Employee.get_company_info())"
   ]
  },
  {
   "cell_type": "markdown",
   "metadata": {},
   "source": [
    "### 2. **Using a Class as an Alternative Constructor**\n",
    "\n",
    "#### **Definition: Alternative Constructor**\n",
    "\n",
    "An **alternative constructor** in Python is a `@classmethod` that provides **another way to create an instance** of a class, *other than* using the regular `__init__()` method.\n",
    "\n",
    "It usually takes input in a different format (like a string, dictionary, or external data) and then returns a new object using `cls(...)`.\n",
    "\n",
    "### **Key Points:**\n",
    "\n",
    "- Decorated with `@classmethod`\n",
    "- Takes `cls` as the first parameter (refers to the class itself)\n",
    "- Returns a new instance: `return cls(...)`\n",
    "- It’s “alternative” because it's not the default constructor (`__init__()`), but it still creates objects.\n",
    "---\n",
    "\n",
    "##### **Example (Regular + Alternative Constructor)**\n",
    "**Question:**  \n",
    "How can we design a class so that we can create an `Employee` object either by passing separate values like `\"John\"` and `\"Data Scientist\"`, or by using a single string like `\"Alice-Data Analyst\"`—without manually splitting the string every time?"
   ]
  },
  {
   "cell_type": "code",
   "execution_count": 9,
   "metadata": {},
   "outputs": [],
   "source": [
    "class Employee:\n",
    "    def __init__(self, name, role):\n",
    "        self.name = name\n",
    "        self.role = role\n",
    "\n",
    "    def show_info(self):\n",
    "        print(f\"Name: {self.name}, Role: {self.role}\")\n",
    "\n",
    "    @classmethod\n",
    "    def from_string(cls, emp_str): # Alternaternative constructor\n",
    "        name, role = emp_str.split(\"-\")\n",
    "        return cls(name, role)"
   ]
  },
  {
   "cell_type": "code",
   "execution_count": 10,
   "metadata": {},
   "outputs": [
    {
     "name": "stdout",
     "output_type": "stream",
     "text": [
      "Name: John, Role: Data Scientist\n"
     ]
    }
   ],
   "source": [
    "# Creating an object using normal constructor\n",
    "emp1 = Employee(\"John\", \"Data Scientist\")\n",
    "emp1.show_info()"
   ]
  },
  {
   "cell_type": "code",
   "execution_count": 11,
   "metadata": {},
   "outputs": [
    {
     "name": "stdout",
     "output_type": "stream",
     "text": [
      "Name: Alice, Role: Data Analyst\n"
     ]
    }
   ],
   "source": [
    "# Creating an object using class method (alternative constructor)\n",
    "emp2 = Employee.from_string(\"Alice-Data Analyst\")\n",
    "emp2.show_info()\n"
   ]
  },
  {
   "cell_type": "markdown",
   "metadata": {},
   "source": [
    "## **Class Method — More Complex Example**\n",
    "\n",
    "### **Scenario**:  \n",
    "You're building an `Employee` system that hires **data science interns**, **junior**, and **senior** employees through **factory methods** (alternate constructors) based on role and experience.\n"
   ]
  },
  {
   "cell_type": "code",
   "execution_count": 12,
   "metadata": {},
   "outputs": [],
   "source": [
    "class Employee:\n",
    "    company_name = \"Global AI Ocean\"\n",
    "    \n",
    "    def __init__(self, name, role, experience):\n",
    "        self.name = name\n",
    "        self.role = role\n",
    "        self.experience = experience  # in years\n",
    "\n",
    "    def show_profile(self):\n",
    "        return f\"{self.name} - {self.role} ({self.experience} yrs)\"\n",
    "\n",
    "    @classmethod\n",
    "    def hire_intern(cls, name):\n",
    "        return cls(name, \"Data Science Intern\", 0)\n",
    "\n",
    "    @classmethod\n",
    "    def hire_junior(cls, name, experience):\n",
    "        if experience < 2:\n",
    "            raise ValueError(\"Junior must have at least 2 years of experience.\")\n",
    "        return cls(name, \"Junior Data Scientist\", experience)\n",
    "\n",
    "    @classmethod\n",
    "    def hire_senior(cls, name, experience):\n",
    "        if experience < 5:\n",
    "            raise ValueError(\"Senior must have at least 5 years of experience.\")\n",
    "        return cls(name, \"Senior Data Scientist\", experience)\n"
   ]
  },
  {
   "cell_type": "markdown",
   "metadata": {},
   "source": [
    "###  **Usage**:\n"
   ]
  },
  {
   "cell_type": "code",
   "execution_count": 13,
   "metadata": {},
   "outputs": [],
   "source": [
    "intern = Employee.hire_intern(\"Ada\")\n",
    "junior = Employee.hire_junior(\"Chinedu\", 3)\n",
    "senior = Employee.hire_senior(\"Fatima\", 7)"
   ]
  },
  {
   "cell_type": "code",
   "execution_count": 14,
   "metadata": {},
   "outputs": [
    {
     "name": "stdout",
     "output_type": "stream",
     "text": [
      "Ada - Data Science Intern (0 yrs)\n",
      "Chinedu - Junior Data Scientist (3 yrs)\n",
      "Fatima - Senior Data Scientist (7 yrs)\n"
     ]
    }
   ],
   "source": [
    "print(intern.show_profile())\n",
    "print(junior.show_profile())\n",
    "print(senior.show_profile())"
   ]
  },
  {
   "cell_type": "markdown",
   "metadata": {},
   "source": [
    "**The instance stores** the data in its own memory (`instance.__dict__`). So in this case we can access the stored data using something like `intern.__init__`"
   ]
  },
  {
   "cell_type": "code",
   "execution_count": 15,
   "metadata": {},
   "outputs": [
    {
     "name": "stdout",
     "output_type": "stream",
     "text": [
      "{'name': 'Ada', 'role': 'Data Science Intern', 'experience': 0}\n",
      "{'name': 'Chinedu', 'role': 'Junior Data Scientist', 'experience': 3}\n",
      "{'name': 'Fatima', 'role': 'Senior Data Scientist', 'experience': 7}\n"
     ]
    }
   ],
   "source": [
    "print(intern.__dict__)\n",
    "print(junior.__dict__)\n",
    "print(senior.__dict__)"
   ]
  },
  {
   "cell_type": "markdown",
   "metadata": {},
   "source": [
    "### `__dict__` is a **special attribute** in Python that:\n",
    "\n",
    ">  **Stores all the attributes (variables) of an object** in a dictionary form.\n",
    "---"
   ]
  },
  {
   "cell_type": "markdown",
   "metadata": {},
   "source": [
    "## **3. Static Methods**\n",
    "\n",
    "### **Definition**:\n",
    "Static methods don’t access class or instance variables. They are **utility functions** that belong to the class logically but don’t need access to class or instance data.\n",
    "\n",
    "### **Key Characteristics**:\n",
    "- Defined using the `@staticmethod` decorator.\n",
    "- Don’t take `self` or `cls` as a parameter.\n",
    "- Can be called on class or instance.\n",
    "- Used for independent helper methods related to the class.\n",
    "- They behave like regular functions except that we include them in our classes because they have some logical connections with the class.\n",
    "\n",
    "## **Example (Simple)**: Let's see the effect of using `@staticmethod` vs not using it in a case where `@staticmethod` is supposed tobe used.\n",
    "\n",
    "###  A. **Implementation A: Without `@staticmethod`**\n"
   ]
  },
  {
   "cell_type": "code",
   "execution_count": null,
   "metadata": {},
   "outputs": [],
   "source": [
    "class Employee:\n",
    "    def is_workday(day):\n",
    "        return day.lower() not in ['saturday', 'sunday']"
   ]
  },
  {
   "cell_type": "markdown",
   "metadata": {},
   "source": [
    "### 1.  Calling with an instance: `Employee().is_workday(\"Monday\")`\n"
   ]
  },
  {
   "cell_type": "code",
   "execution_count": 17,
   "metadata": {},
   "outputs": [
    {
     "ename": "TypeError",
     "evalue": "Employee.is_workday() takes 1 positional argument but 2 were given",
     "output_type": "error",
     "traceback": [
      "\u001b[0;31m---------------------------------------------------------------------------\u001b[0m",
      "\u001b[0;31mTypeError\u001b[0m                                 Traceback (most recent call last)",
      "Cell \u001b[0;32mIn[17], line 1\u001b[0m\n\u001b[0;32m----> 1\u001b[0m \u001b[38;5;28mprint\u001b[39m(Employee()\u001b[38;5;241m.\u001b[39mis_workday(\u001b[38;5;124m\"\u001b[39m\u001b[38;5;124mMonday\u001b[39m\u001b[38;5;124m\"\u001b[39m))\n\u001b[1;32m      2\u001b[0m \u001b[38;5;28mprint\u001b[39m(Employee()\u001b[38;5;241m.\u001b[39mis_workday(\u001b[38;5;124m\"\u001b[39m\u001b[38;5;124mSunday\u001b[39m\u001b[38;5;124m\"\u001b[39m))\n",
      "\u001b[0;31mTypeError\u001b[0m: Employee.is_workday() takes 1 positional argument but 2 were given"
     ]
    }
   ],
   "source": [
    "print(Employee().is_workday(\"Monday\"))\n",
    "print(Employee().is_workday(\"Sunday\"))"
   ]
  },
  {
   "cell_type": "markdown",
   "metadata": {},
   "source": [
    "### `TypeError`\n",
    "\n",
    "**Why?**\n",
    "- Python treats `is_workday` as an **instance method**, so it tries to pass `self` **implicitly**.\n",
    "- But your method signature is: `def is_workday(day)` — no `self`.\n",
    "\n",
    "----\n",
    "### 2. Calling directly on the class: `Employee.is_workday(\"Monday\")`\n",
    "\n",
    "This **works**, but it's a little **accidental**."
   ]
  },
  {
   "cell_type": "code",
   "execution_count": 18,
   "metadata": {},
   "outputs": [
    {
     "name": "stdout",
     "output_type": "stream",
     "text": [
      "False\n",
      "True\n"
     ]
    }
   ],
   "source": [
    "print(Employee.is_workday(\"Sunday\"))\n",
    "print(Employee.is_workday(\"Monday\"))"
   ]
  },
  {
   "cell_type": "markdown",
   "metadata": {},
   "source": [
    "**Why does it work?**\n",
    "- Python **does not inject** `self` automatically when you call a method directly on the class **and the method doesn’t expect self.**\n",
    "- So it behaves like a plain function:\n",
    "  ```python\n",
    "  is_workday(day=\"Monday\")\n",
    "  ```\n",
    "\n",
    "But this is confusing and **non-idiomatic**. It's better to be explicit by using `@staticmethod`.\n",
    "\n",
    "---\n",
    "\n",
    "### **Implementation B: With `@staticmethod`**"
   ]
  },
  {
   "cell_type": "code",
   "execution_count": 22,
   "metadata": {},
   "outputs": [],
   "source": [
    "class Employee:\n",
    "    @staticmethod\n",
    "    def is_workday(day):\n",
    "        return day.lower() not in ['saturday', 'sunday']"
   ]
  },
  {
   "cell_type": "markdown",
   "metadata": {},
   "source": [
    "### 1. Calling with an instance: `Employee().is_workday(\"Monday\")`"
   ]
  },
  {
   "cell_type": "code",
   "execution_count": 23,
   "metadata": {},
   "outputs": [
    {
     "name": "stdout",
     "output_type": "stream",
     "text": [
      "True\n",
      "False\n"
     ]
    }
   ],
   "source": [
    "print(Employee().is_workday(\"Monday\"))\n",
    "print(Employee().is_workday(\"Sunday\"))"
   ]
  },
  {
   "cell_type": "markdown",
   "metadata": {},
   "source": [
    "**Why?**\n",
    "- The method is marked as `@staticmethod`, so Python doesn’t inject `self`.\n",
    "- You can call it from the instance, and it behaves like a normal function.\n",
    "\n",
    "---\n",
    "\n",
    "### 2. Calling on the class: `Employee.is_workday(\"Monday\")`"
   ]
  },
  {
   "cell_type": "code",
   "execution_count": 24,
   "metadata": {},
   "outputs": [
    {
     "name": "stdout",
     "output_type": "stream",
     "text": [
      "True\n",
      "False\n"
     ]
    }
   ],
   "source": [
    "print(Employee.is_workday(\"Monday\"))\n",
    "print(Employee.is_workday(\"Sunday\"))"
   ]
  },
  {
   "cell_type": "markdown",
   "metadata": {},
   "source": [
    "**Why?**\n",
    "- Same as above. Since `@staticmethod` doesn’t expect `self` or `cls`, this works fine too.\n",
    "\n",
    "- **Without `@staticmethod`**, Python thinks it's an instance method and injects `self`, even if it's not defined — leading to confusion and bugs.\n",
    "- **With `@staticmethod`**, you clearly define a method that doesn't rely on instance or class data, and it can be called from both instance and class."
   ]
  },
  {
   "cell_type": "markdown",
   "metadata": {},
   "source": [
    "### **Let's go to more complex examples:**\n"
   ]
  },
  {
   "cell_type": "code",
   "execution_count": null,
   "metadata": {},
   "outputs": [],
   "source": [
    "class DataScientist:\n",
    "    def __init__(self, name, role):\n",
    "        self.name = name\n",
    "        self.role = role\n",
    "\n",
    "    @staticmethod\n",
    "    def validate_skills(tools):\n",
    "        valid_tools = ['Python', 'Pandas', 'NumPy', 'TensorFlow']\n",
    "        return all(tool in valid_tools for tool in tools)"
   ]
  },
  {
   "cell_type": "code",
   "execution_count": null,
   "metadata": {},
   "outputs": [],
   "source": [
    "skills = [\"Python\", \"Pandas\"]\n",
    "print(DataScientist.validate_skills(skills))  "
   ]
  },
  {
   "cell_type": "markdown",
   "metadata": {},
   "source": [
    "## **Static Method — More Complex Example**\n",
    "\n",
    "### **Scenario**:  \n",
    "You want a utility inside your `DataScientist` class to validate toolkits used by candidates. This logic is general and doesn’t depend on the specific object or class—it just belongs logically to the class.\n",
    "\n",
    "### **Usage**:"
   ]
  },
  {
   "cell_type": "code",
   "execution_count": null,
   "metadata": {},
   "outputs": [],
   "source": [
    "class DataScientist:\n",
    "    valid_tools = [\"Python\", \"Pandas\", \"NumPy\", \"Scikit-learn\", \"TensorFlow\"]\n",
    "\n",
    "    def __init__(self, name, tools):\n",
    "        self.name = name\n",
    "        self.tools = tools\n",
    "\n",
    "    def profile(self):\n",
    "        return f\"{self.name} uses: {', '.join(self.tools)}\"\n",
    "\n",
    "    @staticmethod\n",
    "    def validate_toolkit(tools):\n",
    "        \"\"\"Validate if all tools are acceptable for a DS role.\"\"\"\n",
    "        invalid = [tool for tool in tools if tool not in DataScientist.valid_tools]\n",
    "        if invalid:\n",
    "            print(f\"Invalid tools detected: {', '.join(invalid)}\")\n",
    "            return False\n",
    "        return True\n",
    "\n",
    "    @staticmethod\n",
    "    def calculate_salary(base, years_exp, cert_bonus=0):\n",
    "        \"\"\"Calculate salary based on a formula.\"\"\"\n",
    "        return base + (years_exp * 1000) + cert_bonus\n"
   ]
  },
  {
   "cell_type": "code",
   "execution_count": 25,
   "metadata": {},
   "outputs": [
    {
     "name": "stdout",
     "output_type": "stream",
     "text": [
      "Invalid tools detected: Excel\n",
      "False\n"
     ]
    }
   ],
   "source": [
    "toolkit = [\"Python\", \"Pandas\", \"Excel\"]\n",
    "print(DataScientist.validate_toolkit(toolkit)) "
   ]
  },
  {
   "cell_type": "code",
   "execution_count": null,
   "metadata": {},
   "outputs": [],
   "source": [
    "salary = DataScientist.calculate_salary(base=5000, years_exp=5, cert_bonus=2000)\n",
    "print(f\"Estimated Salary: ${salary}\")"
   ]
  },
  {
   "cell_type": "markdown",
   "metadata": {},
   "source": [
    "## **Quick Comparison Table**\n",
    "\n",
    "| Feature           | Instance Method     | Class Method        | Static Method         |\n",
    "|------------------|---------------------|----------------------|------------------------|\n",
    "| First Param       | `self`              | `cls`                | None                   |\n",
    "| Access Instance?  | Can access instance              |  Connot Access instance                 |  No                  |\n",
    "| Access Class?     |  Can access indirectly     | Can access class                |  No                  |\n",
    "| Decorator         | None                | `@classmethod`       | `@staticmethod`        |\n",
    "| Use Case          | Operate on instance | Factory method, shared info | Utility/helper method |\n",
    "\n",
    "## **Best Practices**\n",
    "\n",
    "- Use **instance methods** when you need to access or modify object attributes.\n",
    "- Use **class methods** when you're working with the class itself (e.g., alternative constructors).\n",
    "- Use **static methods** when logic relates to the class but doesn't require access to class or instance attributes."
   ]
  },
  {
   "cell_type": "code",
   "execution_count": null,
   "metadata": {},
   "outputs": [],
   "source": []
  }
 ],
 "metadata": {
  "kernelspec": {
   "display_name": "base",
   "language": "python",
   "name": "python3"
  },
  "language_info": {
   "codemirror_mode": {
    "name": "ipython",
    "version": 3
   },
   "file_extension": ".py",
   "mimetype": "text/x-python",
   "name": "python",
   "nbconvert_exporter": "python",
   "pygments_lexer": "ipython3",
   "version": "3.12.7"
  }
 },
 "nbformat": 4,
 "nbformat_minor": 2
}
