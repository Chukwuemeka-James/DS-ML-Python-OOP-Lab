{
 "cells": [
  {
   "cell_type": "markdown",
   "metadata": {},
   "source": [
    "# **Special / Magic / Dunder Methods in Python**\n",
    "\n",
    "## **Objectives:**\n",
    "By the end of this lesson, students should be able to:\n",
    "- Understand what special (dunder) methods are.\n",
    "- Identify key magic methods like `__init__`, `__repr__`, `__str__`, and `__len__`.\n",
    "- Implement these methods in beginner, intermediate, and advanced data science examples.\n",
    "- Appreciate how these methods help in writing cleaner and more intuitive code.\n",
    "\n",
    "## What Are Special / Magic / Dunder Methods?\n",
    "\n",
    "In Python, special methods (also known as **magic methods** or **dunder methods**) are functions that have **double underscores** before and after their names, e.g., `__init__`, `__str__`, `__len__`.\n",
    "\n",
    "They are used to **define behavior for built-in Python operations** like:\n",
    "- Object initialization\n",
    "- String representation\n",
    "- Length calculation\n",
    "- Addition, subtraction, etc.\n",
    "\n",
    "---\n",
    "\n",
    "###  1. `__init__` – The Constructor Method\n",
    "\n",
    "Used to **initialize** a new object with specific attributes.\n",
    "\n",
    "\n",
    "### Beginner Example:"
   ]
  },
  {
   "cell_type": "code",
   "execution_count": 1,
   "metadata": {},
   "outputs": [],
   "source": [
    "class DataScientist:\n",
    "    def __init__(self, name, specialty):\n",
    "        self.name = name\n",
    "        self.specialty = specialty"
   ]
  },
  {
   "cell_type": "code",
   "execution_count": 2,
   "metadata": {},
   "outputs": [
    {
     "name": "stdout",
     "output_type": "stream",
     "text": [
      "Alice\n",
      "NLP\n"
     ]
    }
   ],
   "source": [
    "ds = DataScientist(\"Alice\", \"NLP\")\n",
    "print(ds.name)\n",
    "print(ds.specialty)"
   ]
  },
  {
   "cell_type": "markdown",
   "metadata": {},
   "source": [
    "### Intermediate Example:\n"
   ]
  },
  {
   "cell_type": "code",
   "execution_count": 3,
   "metadata": {},
   "outputs": [],
   "source": [
    "class Dataset:\n",
    "    def __init__(self, name, rows, columns):\n",
    "        self.name = name\n",
    "        self.rows = rows\n",
    "        self.columns = columns"
   ]
  },
  {
   "cell_type": "code",
   "execution_count": 4,
   "metadata": {},
   "outputs": [
    {
     "name": "stdout",
     "output_type": "stream",
     "text": [
      "Titanic 891 12\n"
     ]
    }
   ],
   "source": [
    "titanic = Dataset(\"Titanic\", 891, 12)\n",
    "print(titanic.name, titanic.rows, titanic.columns)"
   ]
  },
  {
   "cell_type": "markdown",
   "metadata": {},
   "source": [
    "### Advanced Example (with data validation):\n"
   ]
  },
  {
   "cell_type": "code",
   "execution_count": 5,
   "metadata": {},
   "outputs": [],
   "source": [
    "class ModelResult:\n",
    "    def __init__(self, model_name, accuracy):\n",
    "        if accuracy < 0 or accuracy > 1:\n",
    "            raise ValueError(\"Accuracy must be between 0 and 1\")\n",
    "        self.model_name = model_name\n",
    "        self.accuracy = accuracy"
   ]
  },
  {
   "cell_type": "code",
   "execution_count": 6,
   "metadata": {},
   "outputs": [],
   "source": [
    "result = ModelResult(\"Random Forest\", 0.89)"
   ]
  },
  {
   "cell_type": "code",
   "execution_count": 7,
   "metadata": {},
   "outputs": [
    {
     "ename": "ValueError",
     "evalue": "Accuracy must be between 0 and 1",
     "output_type": "error",
     "traceback": [
      "\u001b[0;31m---------------------------------------------------------------------------\u001b[0m",
      "\u001b[0;31mValueError\u001b[0m                                Traceback (most recent call last)",
      "Cell \u001b[0;32mIn[7], line 1\u001b[0m\n\u001b[0;32m----> 1\u001b[0m result \u001b[38;5;241m=\u001b[39m ModelResult(\u001b[38;5;124m\"\u001b[39m\u001b[38;5;124mDecision Tree\u001b[39m\u001b[38;5;124m\"\u001b[39m, \u001b[38;5;241m-\u001b[39m\u001b[38;5;241m0.1\u001b[39m)\n",
      "Cell \u001b[0;32mIn[5], line 4\u001b[0m, in \u001b[0;36mModelResult.__init__\u001b[0;34m(self, model_name, accuracy)\u001b[0m\n\u001b[1;32m      2\u001b[0m \u001b[38;5;28;01mdef\u001b[39;00m \u001b[38;5;21m__init__\u001b[39m(\u001b[38;5;28mself\u001b[39m, model_name, accuracy):\n\u001b[1;32m      3\u001b[0m     \u001b[38;5;28;01mif\u001b[39;00m accuracy \u001b[38;5;241m<\u001b[39m \u001b[38;5;241m0\u001b[39m \u001b[38;5;129;01mor\u001b[39;00m accuracy \u001b[38;5;241m>\u001b[39m \u001b[38;5;241m1\u001b[39m:\n\u001b[0;32m----> 4\u001b[0m         \u001b[38;5;28;01mraise\u001b[39;00m \u001b[38;5;167;01mValueError\u001b[39;00m(\u001b[38;5;124m\"\u001b[39m\u001b[38;5;124mAccuracy must be between 0 and 1\u001b[39m\u001b[38;5;124m\"\u001b[39m)\n\u001b[1;32m      5\u001b[0m     \u001b[38;5;28mself\u001b[39m\u001b[38;5;241m.\u001b[39mmodel_name \u001b[38;5;241m=\u001b[39m model_name\n\u001b[1;32m      6\u001b[0m     \u001b[38;5;28mself\u001b[39m\u001b[38;5;241m.\u001b[39maccuracy \u001b[38;5;241m=\u001b[39m accuracy\n",
      "\u001b[0;31mValueError\u001b[0m: Accuracy must be between 0 and 1"
     ]
    }
   ],
   "source": [
    "result = ModelResult(\"Decision Tree\", -0.1)"
   ]
  },
  {
   "cell_type": "markdown",
   "metadata": {},
   "source": [
    "## 2. `__repr__` – Official String Representation (For Debugging)\n",
    "\n",
    "### Purpose:\n",
    "- Used by **developers** and debugging tools.\n",
    "- Aims to give an **unambiguous**, code-like string representation of an object.\n",
    "- Triggered by the built-in `repr()` function and also used when printing objects in lists, dictionaries, or logs.\n",
    "\n",
    "\n",
    "## Beginner Level: With vs Without `__repr__`\n",
    "\n",
    "### Without `__repr__`:"
   ]
  },
  {
   "cell_type": "code",
   "execution_count": 8,
   "metadata": {},
   "outputs": [],
   "source": [
    "class DataScientist:\n",
    "    def __init__(self, name, specialty):\n",
    "        self.name = name\n",
    "        self.specialty = specialty"
   ]
  },
  {
   "cell_type": "code",
   "execution_count": 9,
   "metadata": {},
   "outputs": [
    {
     "name": "stdout",
     "output_type": "stream",
     "text": [
      "<__main__.DataScientist object at 0x7e75fc011070>\n"
     ]
    }
   ],
   "source": [
    "ds = DataScientist(\"Grace\", \"Data Engineering\")\n",
    "print(ds)"
   ]
  },
  {
   "cell_type": "markdown",
   "metadata": {},
   "source": [
    "> Not helpful when debugging, especially in large data workflows.\n",
    "\n",
    "---\n",
    "\n",
    "### With `__repr__`:"
   ]
  },
  {
   "cell_type": "code",
   "execution_count": 10,
   "metadata": {},
   "outputs": [],
   "source": [
    "class DataScientist:\n",
    "    def __init__(self, name, specialty):\n",
    "        self.name = name\n",
    "        self.specialty = specialty\n",
    "\n",
    "    def __repr__(self):\n",
    "        return f\"DataScientist(name='{self.name}', specialty='{self.specialty}')\""
   ]
  },
  {
   "cell_type": "code",
   "execution_count": 11,
   "metadata": {},
   "outputs": [
    {
     "name": "stdout",
     "output_type": "stream",
     "text": [
      "DataScientist(name='Grace', specialty='Data Engineering')\n"
     ]
    }
   ],
   "source": [
    "ds = DataScientist(\"Grace\", \"Data Engineering\")\n",
    "print(ds)"
   ]
  },
  {
   "cell_type": "markdown",
   "metadata": {},
   "source": [
    "> Much better for understanding object content during debugging/logging.\n",
    "\n",
    "---\n",
    "\n",
    "## Intermediate Example: Dataset\n",
    "\n",
    "### Without `__repr__`:"
   ]
  },
  {
   "cell_type": "code",
   "execution_count": 12,
   "metadata": {},
   "outputs": [],
   "source": [
    "class Dataset:\n",
    "    def __init__(self, name, rows, columns):\n",
    "        self.name = name\n",
    "        self.rows = rows\n",
    "        self.columns = columns"
   ]
  },
  {
   "cell_type": "code",
   "execution_count": 13,
   "metadata": {},
   "outputs": [
    {
     "name": "stdout",
     "output_type": "stream",
     "text": [
      "<__main__.Dataset object at 0x7e75fc011070>\n"
     ]
    }
   ],
   "source": [
    "iris = Dataset(\"Iris\", 150, 4)\n",
    "print(iris)"
   ]
  },
  {
   "cell_type": "markdown",
   "metadata": {},
   "source": [
    "### With `__repr__`:\n"
   ]
  },
  {
   "cell_type": "code",
   "execution_count": 14,
   "metadata": {},
   "outputs": [],
   "source": [
    "class Dataset:\n",
    "    def __init__(self, name, rows, columns):\n",
    "        self.name = name\n",
    "        self.rows = rows\n",
    "        self.columns = columns\n",
    "\n",
    "    def __repr__(self):\n",
    "        return f\"Dataset(name='{self.name}', rows={self.rows}, columns={self.columns})\""
   ]
  },
  {
   "cell_type": "code",
   "execution_count": 15,
   "metadata": {},
   "outputs": [],
   "source": [
    "iris = Dataset(\"Iris\", 150, 4)"
   ]
  },
  {
   "cell_type": "code",
   "execution_count": 16,
   "metadata": {},
   "outputs": [
    {
     "name": "stdout",
     "output_type": "stream",
     "text": [
      "Dataset(name='Iris', rows=150, columns=4)\n"
     ]
    }
   ],
   "source": [
    "print(iris)"
   ]
  },
  {
   "cell_type": "markdown",
   "metadata": {},
   "source": [
    "### Expert Tip:\n",
    "\n",
    "If you define **only `__repr__`**, Python will use it for both `print(obj)` and `repr(obj)`:"
   ]
  },
  {
   "cell_type": "code",
   "execution_count": 17,
   "metadata": {},
   "outputs": [],
   "source": [
    "class ModelResult:\n",
    "    def __init__(self, model_name, accuracy):\n",
    "        self.model_name = model_name\n",
    "        self.accuracy = accuracy\n",
    "\n",
    "    def __repr__(self):\n",
    "        return f\"ModelResult(model='{self.model_name}', accuracy={self.accuracy:.2%})\""
   ]
  },
  {
   "cell_type": "code",
   "execution_count": 18,
   "metadata": {},
   "outputs": [
    {
     "name": "stdout",
     "output_type": "stream",
     "text": [
      "ModelResult(model='Random Forest', accuracy=93.70%)\n",
      "ModelResult(model='Random Forest', accuracy=93.70%)\n"
     ]
    }
   ],
   "source": [
    "res = ModelResult(\"Random Forest\", 0.937)\n",
    "print(res)          # Uses __repr__ since __str__ is not defined\n",
    "print(repr(res))    # Uses __repr__"
   ]
  },
  {
   "cell_type": "markdown",
   "metadata": {},
   "source": [
    "> **This is useful when you want **one unified representation** that’s still developer-friendly.**\n",
    "\n",
    "---\n",
    "\n",
    "## 3. `__str__` – Human-Readable String Representation\n",
    "\n",
    "Defines the **string version of the object** when printed. Used with `print()` and `str()`.\n",
    "\n",
    "\n",
    "### Beginner Example `without` __str__:"
   ]
  },
  {
   "cell_type": "code",
   "execution_count": 19,
   "metadata": {},
   "outputs": [],
   "source": [
    "class DataScientist:\n",
    "    def __init__(self, name, specialty):\n",
    "        self.name = name\n",
    "        self.specialty = specialty"
   ]
  },
  {
   "cell_type": "code",
   "execution_count": 20,
   "metadata": {},
   "outputs": [
    {
     "name": "stdout",
     "output_type": "stream",
     "text": [
      "<__main__.DataScientist object at 0x7e75fabcc0e0>\n"
     ]
    }
   ],
   "source": [
    "# Print output\n",
    "\n",
    "ds = DataScientist(\"Bob\", \"Computer Vision\")\n",
    "print(ds)\n"
   ]
  },
  {
   "cell_type": "markdown",
   "metadata": {},
   "source": [
    "**This is the default object representation, not very informative for humans.**\n",
    "\n",
    "---\n",
    "\n",
    "### Beginner Example with __str__:"
   ]
  },
  {
   "cell_type": "code",
   "execution_count": 21,
   "metadata": {},
   "outputs": [],
   "source": [
    "class DataScientist:\n",
    "    def __init__(self, name, specialty):\n",
    "        self.name = name\n",
    "        self.specialty = specialty\n",
    "\n",
    "    def __str__(self):\n",
    "        return f\"{self.name}, specializes in {self.specialty}\""
   ]
  },
  {
   "cell_type": "code",
   "execution_count": 22,
   "metadata": {},
   "outputs": [
    {
     "name": "stdout",
     "output_type": "stream",
     "text": [
      "Bob, specializes in Computer Vision\n"
     ]
    }
   ],
   "source": [
    "ds = DataScientist(\"Bob\", \"Computer Vision\")\n",
    "print(ds)"
   ]
  },
  {
   "cell_type": "markdown",
   "metadata": {},
   "source": [
    "**Much more readable and user-friendly!**\n",
    "\n",
    "---\n",
    "\n",
    "### Intermediate Example `without` __str__:\n"
   ]
  },
  {
   "cell_type": "code",
   "execution_count": 23,
   "metadata": {},
   "outputs": [],
   "source": [
    "class Dataset:\n",
    "    def __init__(self, name, rows, columns):\n",
    "        self.name = name\n",
    "        self.rows = rows\n",
    "        self.columns = columns\n"
   ]
  },
  {
   "cell_type": "code",
   "execution_count": 24,
   "metadata": {},
   "outputs": [
    {
     "name": "stdout",
     "output_type": "stream",
     "text": [
      "<__main__.Dataset object at 0x7e75fabcc8f0>\n"
     ]
    }
   ],
   "source": [
    "titanic = Dataset(\"Titanic\", 891, 12)\n",
    "print(titanic)"
   ]
  },
  {
   "cell_type": "markdown",
   "metadata": {},
   "source": [
    "**This is the default object representation, not very informative for humans.**\n",
    "\n",
    "---\n",
    "\n",
    "### Intermediate Example `with` __str__:"
   ]
  },
  {
   "cell_type": "code",
   "execution_count": 25,
   "metadata": {},
   "outputs": [],
   "source": [
    "class Dataset:\n",
    "    def __init__(self, name, rows, columns):\n",
    "        self.name = name\n",
    "        self.rows = rows\n",
    "        self.columns = columns\n",
    "\n",
    "    def __str__(self):\n",
    "        return f\"Dataset: {self.name} | Shape: ({self.rows}, {self.columns})\""
   ]
  },
  {
   "cell_type": "code",
   "execution_count": 26,
   "metadata": {},
   "outputs": [
    {
     "name": "stdout",
     "output_type": "stream",
     "text": [
      "Dataset: Titanic | Shape: (891, 12)\n"
     ]
    }
   ],
   "source": [
    "titanic = Dataset(\"Titanic\", 891, 12)\n",
    "print(titanic)"
   ]
  },
  {
   "cell_type": "markdown",
   "metadata": {},
   "source": [
    "**Much more readable and user-friendly!**\n",
    "\n",
    "---\n",
    "\n",
    "### Advanced Example `with` __str__:\n"
   ]
  },
  {
   "cell_type": "code",
   "execution_count": 27,
   "metadata": {},
   "outputs": [],
   "source": [
    "class Experiment:\n",
    "    def __init__(self, title, model, score):\n",
    "        self.title = title\n",
    "        self.model = model\n",
    "        self.score = score\n",
    "\n",
    "    def __str__(self):\n",
    "        return f\"[{self.title}] - Model: {self.model}, Accuracy: {self.score * 100:.2f}%\""
   ]
  },
  {
   "cell_type": "code",
   "execution_count": 28,
   "metadata": {},
   "outputs": [
    {
     "name": "stdout",
     "output_type": "stream",
     "text": [
      "[Churn Prediction] - Model: XGBoost, Accuracy: 94.30%\n"
     ]
    }
   ],
   "source": [
    "exp = Experiment(\"Churn Prediction\", \"XGBoost\", 0.943)\n",
    "print(exp)"
   ]
  },
  {
   "cell_type": "markdown",
   "metadata": {},
   "source": [
    "## 4. `__len__` – Custom Length Function\n",
    "\n",
    "### Purpose:\n",
    "- Makes your object compatible with the built-in `len()` function.\n",
    "- Commonly used when your class **holds a collection** (e.g. list of data points, models, experiments).\n",
    "- Returns an integer indicating the size or count of what's inside.\n",
    "\n",
    "## Beginner Level: With vs Without `__len__`\n",
    "\n",
    "### Without `__len__`:"
   ]
  },
  {
   "cell_type": "code",
   "execution_count": 29,
   "metadata": {},
   "outputs": [],
   "source": [
    "class Team:\n",
    "    def __init__(self, members):\n",
    "        self.members = members"
   ]
  },
  {
   "cell_type": "code",
   "execution_count": 30,
   "metadata": {},
   "outputs": [
    {
     "ename": "TypeError",
     "evalue": "object of type 'Team' has no len()",
     "output_type": "error",
     "traceback": [
      "\u001b[0;31m---------------------------------------------------------------------------\u001b[0m",
      "\u001b[0;31mTypeError\u001b[0m                                 Traceback (most recent call last)",
      "Cell \u001b[0;32mIn[30], line 2\u001b[0m\n\u001b[1;32m      1\u001b[0m data_team \u001b[38;5;241m=\u001b[39m Team([\u001b[38;5;124m\"\u001b[39m\u001b[38;5;124mAlice\u001b[39m\u001b[38;5;124m\"\u001b[39m, \u001b[38;5;124m\"\u001b[39m\u001b[38;5;124mBob\u001b[39m\u001b[38;5;124m\"\u001b[39m, \u001b[38;5;124m\"\u001b[39m\u001b[38;5;124mCharlie\u001b[39m\u001b[38;5;124m\"\u001b[39m])\n\u001b[0;32m----> 2\u001b[0m \u001b[38;5;28mprint\u001b[39m(\u001b[38;5;28mlen\u001b[39m(data_team))\n",
      "\u001b[0;31mTypeError\u001b[0m: object of type 'Team' has no len()"
     ]
    }
   ],
   "source": [
    "data_team = Team([\"Alice\", \"Bob\", \"Charlie\"])\n",
    "print(len(data_team)) "
   ]
  },
  {
   "cell_type": "markdown",
   "metadata": {},
   "source": [
    "### With `__len__`:\n"
   ]
  },
  {
   "cell_type": "code",
   "execution_count": 31,
   "metadata": {},
   "outputs": [],
   "source": [
    "class Team:\n",
    "    def __init__(self, members):\n",
    "        self.members = members\n",
    "\n",
    "    def __len__(self):\n",
    "        return len(self.members)"
   ]
  },
  {
   "cell_type": "code",
   "execution_count": 32,
   "metadata": {},
   "outputs": [
    {
     "name": "stdout",
     "output_type": "stream",
     "text": [
      "3\n"
     ]
    }
   ],
   "source": [
    "data_team = Team([\"Alice\", \"Bob\", \"Charlie\"])\n",
    "print(len(data_team))"
   ]
  },
  {
   "cell_type": "markdown",
   "metadata": {},
   "source": [
    "> **Now the object behaves like a list and can be measured using `len()`.**\n",
    "\n",
    "---\n",
    "\n",
    "##  Intermediate Example: Dataset"
   ]
  },
  {
   "cell_type": "code",
   "execution_count": 33,
   "metadata": {},
   "outputs": [],
   "source": [
    "class Dataset:\n",
    "    def __init__(self, name, records):\n",
    "        self.name = name\n",
    "        self.records = records\n",
    "\n",
    "    def __len__(self):\n",
    "        return len(self.records)"
   ]
  },
  {
   "cell_type": "code",
   "execution_count": 34,
   "metadata": {},
   "outputs": [
    {
     "name": "stdout",
     "output_type": "stream",
     "text": [
      "3\n"
     ]
    }
   ],
   "source": [
    "sensor_data = Dataset(\"Sensor Logs\", records=[{\"temp\": 22}, {\"temp\": 23}, {\"temp\": 21}])\n",
    "print(len(sensor_data))"
   ]
  },
  {
   "cell_type": "markdown",
   "metadata": {},
   "source": [
    "**Why it's useful**:\n",
    "- In real-world datasets (e.g. from pandas or a database), being able to call `len()` helps you quickly understand size and iterate accordingly.\n",
    "\n",
    "---\n",
    "\n",
    "## Advanced Example: Experiment Tracker"
   ]
  },
  {
   "cell_type": "code",
   "execution_count": 35,
   "metadata": {},
   "outputs": [],
   "source": [
    "class ExperimentTracker:\n",
    "    def __init__(self):\n",
    "        self.experiments = []\n",
    "\n",
    "    def add_experiment(self, exp):\n",
    "        self.experiments.append(exp)\n",
    "\n",
    "    def __len__(self):\n",
    "        return len(self.experiments)"
   ]
  },
  {
   "cell_type": "code",
   "execution_count": 36,
   "metadata": {},
   "outputs": [
    {
     "name": "stdout",
     "output_type": "stream",
     "text": [
      "2\n"
     ]
    }
   ],
   "source": [
    "tracker = ExperimentTracker()\n",
    "tracker.add_experiment(\"Logistic Regression\")\n",
    "tracker.add_experiment(\"Random Forest\")\n",
    "print(len(tracker))"
   ]
  },
  {
   "cell_type": "markdown",
   "metadata": {},
   "source": [
    "> **Imagine you're running A/B tests or ML experiments—`len(tracker)` can help you dynamically monitor how many trials have been logged.**\n",
    "\n",
    "---\n",
    "\n",
    "## **5 and 6 `__getitem__` and `__iter__`**\n",
    "\n",
    "### **Objectives**\n",
    "By the end of this lecture, students will be able to:\n",
    "\n",
    "- Understand what `__getitem__` and `__iter__` do in Python.\n",
    "- Explain how these magic methods enable indexing and iteration in custom classes.\n",
    "- Implement custom iterable datasets using these methods.\n",
    "- Apply these concepts in data science workflows like dataset iteration and model training loops.\n",
    "\n",
    "### `__getitem__(self, index)`\n",
    "\n",
    "Allows objects of a class to support **indexing** and **slicing** using square brackets — like a list or DataFrame.\n",
    "\n",
    "###  Why It Matters in Data Science:\n",
    "Custom datasets used in training models (like in PyTorch or TensorFlow) rely on `__getitem__` to return feature-label pairs.\n",
    "\n",
    "### Beginner Example: Index Access in a Dataset"
   ]
  },
  {
   "cell_type": "code",
   "execution_count": 37,
   "metadata": {},
   "outputs": [],
   "source": [
    "class Team:\n",
    "    def __init__(self, members):\n",
    "        self.members = members\n",
    "\n",
    "    def __getitem__(self, index):\n",
    "        return self.members[index]"
   ]
  },
  {
   "cell_type": "code",
   "execution_count": 38,
   "metadata": {},
   "outputs": [
    {
     "name": "stdout",
     "output_type": "stream",
     "text": [
      "Alice\n",
      "Charlie\n"
     ]
    }
   ],
   "source": [
    "data_team = Team([\"Alice\", \"Bob\", \"Charlie\"])\n",
    "print(data_team[0])\n",
    "print(data_team[2])"
   ]
  },
  {
   "cell_type": "code",
   "execution_count": 39,
   "metadata": {},
   "outputs": [],
   "source": [
    "class MyDataset:\n",
    "    def __init__(self, data):\n",
    "        self.data = data\n",
    "\n",
    "    def __getitem__(self, index):\n",
    "        return self.data[index]"
   ]
  },
  {
   "cell_type": "code",
   "execution_count": 40,
   "metadata": {},
   "outputs": [
    {
     "name": "stdout",
     "output_type": "stream",
     "text": [
      "Row 2\n"
     ]
    }
   ],
   "source": [
    "dataset = MyDataset([\"Row 1\", \"Row 2\", \"Row 3\"])\n",
    "print(dataset[1])"
   ]
  },
  {
   "cell_type": "markdown",
   "metadata": {},
   "source": [
    "### Intermediate Example: Return Dictionary of Features & Label\n"
   ]
  },
  {
   "cell_type": "code",
   "execution_count": 41,
   "metadata": {},
   "outputs": [],
   "source": [
    "class MLData:\n",
    "    def __init__(self, data):\n",
    "        self.data = data\n",
    "\n",
    "    def __getitem__(self, index):\n",
    "        features, label = self.data[index]\n",
    "        return {\"features\": features, \"label\": label}"
   ]
  },
  {
   "cell_type": "code",
   "execution_count": 42,
   "metadata": {},
   "outputs": [],
   "source": [
    "data = [([1.2, 0.7], 1), \n",
    "        ([0.3, 0.4], 0)]"
   ]
  },
  {
   "cell_type": "markdown",
   "metadata": {},
   "source": [
    "- The whole `data` is a **list** of examples.\n",
    "- Each example is a **tuple**:  \n",
    "  → `([features], label)`\n",
    "- Features are input values (like `[1.2, 0.7]`)  \n",
    "- Label is the expected output (like `1` or `0`)"
   ]
  },
  {
   "cell_type": "code",
   "execution_count": 43,
   "metadata": {},
   "outputs": [
    {
     "name": "stdout",
     "output_type": "stream",
     "text": [
      "{'features': [1.2, 0.7], 'label': 1}\n"
     ]
    }
   ],
   "source": [
    "dataset = MLData(data)\n",
    "print(dataset[0])"
   ]
  },
  {
   "cell_type": "markdown",
   "metadata": {},
   "source": [
    "## `__iter__(self)`\n",
    "\n",
    "### Purpose:\n",
    "Allows objects of a class to be **iterated over** using `for ... in` loops. This makes your object behave like a list or other iterable.\n",
    "\n",
    "###  Why It Matters in Data Science:\n",
    "Makes it easy to **loop over batches**, rows in a dataset, or a series of results in ML pipelines.\n",
    "\n",
    "### Beginner Example: Iterate Through Team Members"
   ]
  },
  {
   "cell_type": "code",
   "execution_count": 44,
   "metadata": {},
   "outputs": [],
   "source": [
    "class Team:\n",
    "    def __init__(self, members):\n",
    "        self.members = members\n",
    "\n",
    "    def __iter__(self):\n",
    "        return iter(self.members)"
   ]
  },
  {
   "cell_type": "code",
   "execution_count": 45,
   "metadata": {},
   "outputs": [
    {
     "name": "stdout",
     "output_type": "stream",
     "text": [
      "Alice\n",
      "Bob\n",
      "Charlie\n"
     ]
    }
   ],
   "source": [
    "team = Team([\"Alice\", \"Bob\", \"Charlie\"])\n",
    "for member in team:\n",
    "    print(member)"
   ]
  },
  {
   "cell_type": "markdown",
   "metadata": {},
   "source": [
    "### Intermediate Example: Custom Dataset for Training Loop\n"
   ]
  },
  {
   "cell_type": "code",
   "execution_count": 46,
   "metadata": {},
   "outputs": [],
   "source": [
    "class Dataset:\n",
    "    def __init__(self, name, rows):\n",
    "        self.name = name\n",
    "        self.rows = rows  # list of dicts\n",
    "\n",
    "    def __iter__(self):\n",
    "        return iter(self.rows)\n",
    "\n",
    "sensor_data = Dataset(\"Sensor Logs\", [\n",
    "    {\"temp\": 22}, {\"temp\": 23}, {\"temp\": 21}\n",
    "])\n"
   ]
  },
  {
   "cell_type": "code",
   "execution_count": 47,
   "metadata": {},
   "outputs": [
    {
     "name": "stdout",
     "output_type": "stream",
     "text": [
      "{'temp': 22}\n",
      "{'temp': 23}\n",
      "{'temp': 21}\n"
     ]
    }
   ],
   "source": [
    "for row in sensor_data:\n",
    "    print(row)"
   ]
  },
  {
   "cell_type": "code",
   "execution_count": 48,
   "metadata": {},
   "outputs": [],
   "source": [
    "class MLDataset:\n",
    "    def __init__(self, data):\n",
    "        self.data = data\n",
    "\n",
    "    def __iter__(self):\n",
    "        for item in self.data:\n",
    "            yield item"
   ]
  },
  {
   "cell_type": "code",
   "execution_count": 49,
   "metadata": {},
   "outputs": [
    {
     "name": "stdout",
     "output_type": "stream",
     "text": [
      "Input: X1, Label: y1\n",
      "Input: X2, Label: y2\n"
     ]
    }
   ],
   "source": [
    "dataset = MLDataset([(\"X1\", \"y1\"), (\"X2\", \"y2\")])\n",
    "for features, label in dataset:\n",
    "    print(f\"Input: {features}, Label: {label}\")"
   ]
  },
  {
   "cell_type": "markdown",
   "metadata": {},
   "source": [
    "### Advanced Combining `__len__`, `__getitem__`, and `__iter__`\n"
   ]
  },
  {
   "cell_type": "code",
   "execution_count": 50,
   "metadata": {},
   "outputs": [],
   "source": [
    "class ExperimentTracker:\n",
    "    def __init__(self):\n",
    "        self.experiments = []\n",
    "\n",
    "    def add_experiment(self, model, accuracy):\n",
    "        self.experiments.append({\"model\": model, \"accuracy\": accuracy})\n",
    "\n",
    "    def __len__(self):\n",
    "        return len(self.experiments)\n",
    "\n",
    "    def __getitem__(self, index):\n",
    "        return self.experiments[index]\n",
    "\n",
    "    def __iter__(self):\n",
    "        return iter(self.experiments)\n",
    "\n"
   ]
  },
  {
   "cell_type": "code",
   "execution_count": 51,
   "metadata": {},
   "outputs": [],
   "source": [
    "tracker = ExperimentTracker()\n",
    "tracker.add_experiment(\"XGBoost\", 0.91)\n",
    "tracker.add_experiment(\"Random Forest\", 0.88)\n"
   ]
  },
  {
   "cell_type": "code",
   "execution_count": 52,
   "metadata": {},
   "outputs": [
    {
     "name": "stdout",
     "output_type": "stream",
     "text": [
      "2\n",
      "{'model': 'XGBoost', 'accuracy': 0.91}\n"
     ]
    }
   ],
   "source": [
    "print(len(tracker))\n",
    "print(tracker[0])"
   ]
  },
  {
   "cell_type": "code",
   "execution_count": 53,
   "metadata": {},
   "outputs": [
    {
     "name": "stdout",
     "output_type": "stream",
     "text": [
      "XGBoost → 0.91\n",
      "Random Forest → 0.88\n"
     ]
    }
   ],
   "source": [
    "for exp in tracker:\n",
    "    print(exp[\"model\"], \"→\", exp[\"accuracy\"])"
   ]
  },
  {
   "cell_type": "markdown",
   "metadata": {},
   "source": [
    "### Advanced Example Combining `__len__`, `__getitem__`, and `__iter__`: Simulating Model Training Loop"
   ]
  },
  {
   "cell_type": "code",
   "execution_count": 54,
   "metadata": {},
   "outputs": [],
   "source": [
    "class TrainingDataset:\n",
    "    def __init__(self, data):\n",
    "        self.data = data\n",
    "\n",
    "    def __len__(self):\n",
    "        return len(self.data)\n",
    "\n",
    "    def __getitem__(self, idx):\n",
    "        x, y = self.data[idx]\n",
    "        return {\"X\": x, \"y\": y}\n",
    "\n",
    "    def __iter__(self):\n",
    "        return iter(self.data)"
   ]
  },
  {
   "cell_type": "code",
   "execution_count": 55,
   "metadata": {},
   "outputs": [],
   "source": [
    "# Data\n",
    "samples = [\n",
    "    ([0.1, 0.2], 0),\n",
    "    ([0.5, 0.6], 1),\n",
    "    ([0.9, 1.0], 1),\n",
    "]\n",
    "\n",
    "train_data = TrainingDataset(samples)"
   ]
  },
  {
   "cell_type": "code",
   "execution_count": 56,
   "metadata": {},
   "outputs": [
    {
     "name": "stdout",
     "output_type": "stream",
     "text": [
      "Training on input: [0.1, 0.2], label: 0\n",
      "Training on input: [0.5, 0.6], label: 1\n",
      "Training on input: [0.9, 1.0], label: 1\n"
     ]
    }
   ],
   "source": [
    "# Testing __iter__ via unpacking in a for‑loop  \n",
    "for X, y in train_data:\n",
    "    print(f\"Training on input: {X}, label: {y}\")"
   ]
  },
  {
   "cell_type": "code",
   "execution_count": 57,
   "metadata": {},
   "outputs": [
    {
     "name": "stdout",
     "output_type": "stream",
     "text": [
      "Length of dataset: 3\n"
     ]
    }
   ],
   "source": [
    "#  Testing __len__  \n",
    "print(\"Length of dataset:\", len(train_data))"
   ]
  },
  {
   "cell_type": "code",
   "execution_count": 58,
   "metadata": {},
   "outputs": [
    {
     "name": "stdout",
     "output_type": "stream",
     "text": [
      "Item at index 0: {'X': [0.1, 0.2], 'y': 0}\n",
      "Item at index 2: {'X': [0.9, 1.0], 'y': 1}\n"
     ]
    }
   ],
   "source": [
    "# Testing __getitem__  \n",
    "print(\"Item at index 0:\", train_data[0])\n",
    "print(\"Item at index 2:\", train_data[2])"
   ]
  },
  {
   "cell_type": "markdown",
   "metadata": {},
   "source": [
    "## Python Magic (Dunder) Methods – Summary for Data Scientists\n",
    "\n",
    "Magic methods (also called **special** or **dunder** methods) are built-in hooks that let your custom classes **behave like Python's built-in types**. This makes your code more intuitive, readable, and scalable—especially in Data Science pipelines.\n",
    "\n",
    "### Core Magic Methods for Data Science\n",
    "\n",
    "| Method         | What It Does                          | Data Science Example                           |\n",
    "|----------------|----------------------------------------|------------------------------------------------|\n",
    "| `__init__`     | Initializes object attributes          | Set up a dataset or model config               |\n",
    "| `__str__`      | Human-readable string (`print(obj)`)   | Print info like model name or dataset shape    |\n",
    "| `__repr__`     | Debugging string (`repr(obj)`)         | Console logging for debugging objects          |\n",
    "| `__len__`      | Returns object size (`len(obj)`)       | Number of rows/samples in dataset              |\n",
    "| `__getitem__`  | Index access (`obj[i]`)                | Retrieve a specific sample by index            |\n",
    "| `__iter__`     | Looping support (`for item in obj`)    | Iterate over all data samples in training loop |\n",
    "\n",
    "\n",
    "### Real-World Analogy (Datasets as Excel Sheets)\n",
    "\n",
    "| You Want To...                | Magic Method   | Analogy                          |\n",
    "|------------------------------|----------------|----------------------------------|\n",
    "| Access a row by index        | `__getitem__`  | Like Excel’s row number          |\n",
    "| Loop through rows            | `__iter__`     | Like scrolling through rows      |\n",
    "| Count total rows             | `__len__`      | Like knowing total rows in sheet |\n",
    "| Print readable summary       | `__str__`      | Like printing sheet description  |\n",
    "| Debug internal structure     | `__repr__`     | Like looking at raw file data    |"
   ]
  },
  {
   "cell_type": "code",
   "execution_count": null,
   "metadata": {},
   "outputs": [],
   "source": []
  }
 ],
 "metadata": {
  "kernelspec": {
   "display_name": "base",
   "language": "python",
   "name": "python3"
  },
  "language_info": {
   "codemirror_mode": {
    "name": "ipython",
    "version": 3
   },
   "file_extension": ".py",
   "mimetype": "text/x-python",
   "name": "python",
   "nbconvert_exporter": "python",
   "pygments_lexer": "ipython3",
   "version": "3.12.7"
  }
 },
 "nbformat": 4,
 "nbformat_minor": 2
}
