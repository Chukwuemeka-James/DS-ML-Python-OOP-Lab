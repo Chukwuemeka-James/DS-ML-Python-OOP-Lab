{
 "cells": [
  {
   "cell_type": "markdown",
   "metadata": {},
   "source": [
    "## **Polymorphism in Object-Oriented Programming (OOP)**\n",
    "\n",
    "Polymorphism allows objects of different types to be treated as objects of a common superclass. It allows the same method or function to behave differently based on the object type.\n",
    "\n",
    "### Types of Polymorphism\n",
    "1. **Compile-Time Polymorphism (Static Polymorphism)**\n",
    "   - Achieved through **method overloading** or **operator overloading**.\n",
    "   \n",
    "2. **Runtime Polymorphism (Dynamic Polymorphism)**\n",
    "   - Achieved through **method overriding**.\n",
    "\n",
    "\n",
    "### **Polymorphism in Action:**\n",
    "\n",
    "#### **1. Method Overloading** (Compile-Time Polymorphism)\n",
    "\n",
    "**Method Overloading** happens when multiple methods with the same name but different parameter types or numbers exist in the same class. This allows the function to operate differently depending on the number and type of arguments passed.\n",
    "\n",
    "**Note**: Python does not support method overloading directly, but we can achieve it using default arguments or variable-length arguments (`*args` and `**kwargs`).\n",
    "\n",
    "##### **Simple Example:**\n",
    "\n",
    "In this example, the `calculate_salary()` method can handle both `hours worked` and `years of experience` to compute the salary of an employee."
   ]
  },
  {
   "cell_type": "code",
   "execution_count": 1,
   "metadata": {},
   "outputs": [],
   "source": [
    "class Employee:\n",
    "    def __init__(self, name, role):\n",
    "        self.name = name\n",
    "        self.role = role\n",
    "\n",
    "    def calculate_salary(self, hours_worked=None, years_of_experience=None):\n",
    "        if hours_worked:\n",
    "            return hours_worked * 20  # Assuming $20 per hour\n",
    "        elif years_of_experience:\n",
    "            return years_of_experience * 5000  # Assuming $5000 per year of experience\n",
    "        else:\n",
    "            return 0"
   ]
  },
  {
   "cell_type": "code",
   "execution_count": 2,
   "metadata": {},
   "outputs": [
    {
     "name": "stdout",
     "output_type": "stream",
     "text": [
      "3200\n",
      "25000\n",
      "0\n"
     ]
    }
   ],
   "source": [
    "emp = Employee(\"John Doe\", \"Data Scientist\")\n",
    "print(emp.calculate_salary(hours_worked=160))\n",
    "print(emp.calculate_salary(years_of_experience=5))\n",
    "print(emp.calculate_salary())"
   ]
  },
  {
   "cell_type": "markdown",
   "metadata": {},
   "source": [
    "### **What makes the `Employee` class a method overloading?**\n",
    "\n",
    "In this simple example, the method `calculate_salary()` works differently depending on whether we pass the number of `hours_worked` or `years_of_experience`.\n",
    "\n",
    "**Python doesn’t support method overloading natively**, but we simulate it by:\n",
    "\n",
    "- Using **optional or default parameters** (e.g., setting them to `None`)\n",
    "- Writing **conditional logic within a single method** to perform different actions based on the arguments provided\n",
    "\n",
    "---\n",
    "\n",
    "##### **More Complex Example:**\n",
    "\n",
    "In this more complex example, we have an **Employee** class with different `roles`, and the `calculate_salary()` method varies its logic based on the role of the employee."
   ]
  },
  {
   "cell_type": "code",
   "execution_count": null,
   "metadata": {},
   "outputs": [],
   "source": [
    "class Employee:\n",
    "    def __init__(self, name, role):\n",
    "        self.name = name\n",
    "        self.role = role\n",
    "\n",
    "    def calculate_salary(self, hours_worked=None, years_of_experience=None, bonus_percentage=0):\n",
    "        if self.role == 'Data Scientist':\n",
    "            if hours_worked:\n",
    "                return (hours_worked * 40) + (bonus_percentage / 100 * hours_worked * 40)\n",
    "            elif years_of_experience:\n",
    "                return (years_of_experience * 8000) + (bonus_percentage / 100 * years_of_experience * 8000)\n",
    "        elif self.role == 'Engineer':\n",
    "            if hours_worked:\n",
    "                return (hours_worked * 30) + (bonus_percentage / 100 * hours_worked * 30)\n",
    "            elif years_of_experience:\n",
    "                return (years_of_experience * 6000) + (bonus_percentage / 100 * years_of_experience * 6000)\n",
    "        return 0"
   ]
  },
  {
   "cell_type": "code",
   "execution_count": null,
   "metadata": {},
   "outputs": [],
   "source": [
    "emp1 = Employee(\"Alice\", \"Data Scientist\")\n",
    "print(emp1.calculate_salary(hours_worked=160, bonus_percentage=10)) \n",
    "\n",
    "emp2 = Employee(\"Bob\", \"Engineer\")\n",
    "print(emp2.calculate_salary(years_of_experience=4, bonus_percentage=15))"
   ]
  },
  {
   "cell_type": "markdown",
   "metadata": {},
   "source": [
    "In this more complex example, the `calculate_salary()` method behaves differently for **Data Scientists** and **Engineers**. Additionally, it incorporates `bonus_percentage` to calculate the salary more dynamically.\n",
    "\n",
    "---\n",
    "\n",
    "#### **2. Method Overriding** (Runtime Polymorphism)\n",
    "\n",
    "**Method Overriding** occurs when a subclass provides a specific implementation of a method that is already defined in its superclass. The method in the subclass should have the same name and signature as the method in the superclass.\n",
    "\n",
    "At runtime, Python will use the method defined in the subclass, not the superclass, allowing us to dynamically decide which method to invoke.\n",
    "\n",
    "##### **Simple Example:**\n",
    "\n",
    "In this simple example, the `Employee` class defines a `work()` method, but subclasses (`DataScientist` and `Engineer`) override it to provide specific behavior for different roles."
   ]
  },
  {
   "cell_type": "code",
   "execution_count": 3,
   "metadata": {},
   "outputs": [],
   "source": [
    "class Employee:\n",
    "    def __init__(self, name, role):\n",
    "        self.name = name\n",
    "        self.role = role\n",
    "\n",
    "    def work(self):\n",
    "        print(f\"{self.name} is working as a general employee.\")\n",
    "\n",
    "# Subclass: Data Scientist\n",
    "class DataScientist(Employee):\n",
    "    def work(self):\n",
    "        print(f\"{self.name} is working as a Data Scientist.\")\n",
    "\n",
    "# Subclass: Engineer\n",
    "class Engineer(Employee):\n",
    "    def work(self):\n",
    "        print(f\"{self.name} is working as an Engineer.\")"
   ]
  },
  {
   "cell_type": "code",
   "execution_count": 4,
   "metadata": {},
   "outputs": [],
   "source": [
    "# Objects of different classes\n",
    "employee1 = Employee(\"John\", \"Employee\")\n",
    "employee2 = DataScientist(\"Alice\", \"Data Scientist\")\n",
    "employee3 = Engineer(\"Bob\", \"Engineer\")"
   ]
  },
  {
   "cell_type": "code",
   "execution_count": 5,
   "metadata": {},
   "outputs": [
    {
     "name": "stdout",
     "output_type": "stream",
     "text": [
      "John is working as a general employee.\n",
      "Alice is working as a Data Scientist.\n",
      "Bob is working as an Engineer.\n"
     ]
    }
   ],
   "source": [
    "# Calling the work method\n",
    "employee1.work()\n",
    "employee2.work()\n",
    "employee3.work()"
   ]
  },
  {
   "cell_type": "markdown",
   "metadata": {},
   "source": [
    "Here, the `work()` method is **overridden** in the `DataScientist` and `Engineer` subclasses. When the method is called on different objects, the correct method based on the object type is invoked.\n",
    "\n",
    "---\n",
    "\n",
    "##### **More Complex Example:**\n",
    "\n",
    "In this more complex example, the `calculate_salary()` method is overridden in different employee subclasses. Each subclass calculates the salary differently based on its role and experience level."
   ]
  },
  {
   "cell_type": "code",
   "execution_count": 6,
   "metadata": {},
   "outputs": [],
   "source": [
    "class Employee:\n",
    "    def __init__(self, name, role, years_of_experience):\n",
    "        self.name = name\n",
    "        self.role = role\n",
    "        self.years_of_experience = years_of_experience\n",
    "\n",
    "    def calculate_salary(self):\n",
    "        raise NotImplementedError(\"Subclass must implement abstract method\")\n",
    "\n",
    "# Subclass: Data Scientist\n",
    "class DataScientist(Employee):\n",
    "    def calculate_salary(self):\n",
    "        return self.years_of_experience * 9000  # $9000 per year of experience\n",
    "\n",
    "# Subclass: Software Engineer\n",
    "class Engineer(Employee):\n",
    "    def calculate_salary(self):\n",
    "        return self.years_of_experience * 7000  # $7000 per year of experience\n",
    "\n",
    "# Subclass: HR Manager\n",
    "class HRManager(Employee):\n",
    "    def calculate_salary(self):\n",
    "        return self.years_of_experience * 5000  # $5000 per year of experience"
   ]
  },
  {
   "cell_type": "code",
   "execution_count": 7,
   "metadata": {},
   "outputs": [],
   "source": [
    "# Creating objects for each subclass\n",
    "emp1 = DataScientist(\"Alice\", \"Data Scientist\", 5)\n",
    "emp2 = Engineer(\"Bob\", \"Engineer\", 6)\n",
    "emp3 = HRManager(\"Charlie\", \"HR Manager\", 4)"
   ]
  },
  {
   "cell_type": "code",
   "execution_count": 8,
   "metadata": {},
   "outputs": [
    {
     "name": "stdout",
     "output_type": "stream",
     "text": [
      "Alice's salary: 45000\n",
      "Bob's salary: 42000\n",
      "Charlie's salary: 20000\n"
     ]
    }
   ],
   "source": [
    "# Calling the overridden method\n",
    "print(f\"{emp1.name}'s salary: {emp1.calculate_salary()}\")\n",
    "print(f\"{emp2.name}'s salary: {emp2.calculate_salary()}\")\n",
    "print(f\"{emp3.name}'s salary: {emp3.calculate_salary()}\")"
   ]
  },
  {
   "cell_type": "markdown",
   "metadata": {},
   "source": [
    "In this more complex example, the `calculate_salary()` method is **overridden** by each subclass (`DataScientist`, `Engineer`, and `HRManager`) to calculate the salary based on different business rules.\n",
    "\n",
    "---\n",
    "\n",
    "### **Key Takeaways:**\n",
    "\n",
    "1. **Polymorphism** allows objects of different classes to be treated as objects of a common superclass.\n",
    "2. **Method Overloading** (compile-time polymorphism) enables methods to behave differently based on the parameters passed.\n",
    "3. **Method Overriding** (runtime polymorphism) allows subclasses to define specific implementations of methods that are already defined in their superclass.\n",
    "4. Polymorphism promotes **code reusability**, **maintainability**, and **flexibility**."
   ]
  },
  {
   "cell_type": "code",
   "execution_count": null,
   "metadata": {},
   "outputs": [],
   "source": []
  }
 ],
 "metadata": {
  "kernelspec": {
   "display_name": "base",
   "language": "python",
   "name": "python3"
  },
  "language_info": {
   "codemirror_mode": {
    "name": "ipython",
    "version": 3
   },
   "file_extension": ".py",
   "mimetype": "text/x-python",
   "name": "python",
   "nbconvert_exporter": "python",
   "pygments_lexer": "ipython3",
   "version": "3.12.7"
  }
 },
 "nbformat": 4,
 "nbformat_minor": 2
}
