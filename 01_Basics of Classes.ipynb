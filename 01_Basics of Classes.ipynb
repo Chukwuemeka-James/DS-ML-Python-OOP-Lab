{
 "cells": [
  {
   "cell_type": "markdown",
   "metadata": {},
   "source": [
    "# Basics of Object-Oriented Programming (OOP) in Python – For Data Scientists\n",
    "\n",
    "## Objective\n",
    "By the end of this lecture, learners will understand the key principles of OOP in Python and how to apply them to data science projects for better code organization, reusability, and readability.\n",
    "\n",
    "## What is Object-Oriented Programming?\n",
    "\n",
    "Object-Oriented Programming (OOP) is a programming paradigm based on the concept of **objects**. Objects are data structures that encapsulate **data** (attributes) and **behavior** (methods).\n",
    "\n",
    "Instead of writing code as functions and variables scattered around, OOP lets you model real-world and analytical concepts using **classes** and **objects**.\n",
    "\n",
    "## Key Concepts of OOP\n",
    "\n",
    "### 1. Class\n",
    "A class is a blueprint for creating objects."
   ]
  },
  {
   "cell_type": "code",
   "execution_count": 1,
   "metadata": {},
   "outputs": [],
   "source": [
    "class Dataset:\n",
    "    def __init__(self, name, num_columns, num_rows, size_mb):\n",
    "        self.name = name\n",
    "        self.num_columns = num_columns\n",
    "        self.num_rows = num_rows\n",
    "        self.size_mb = size_mb"
   ]
  },
  {
   "cell_type": "markdown",
   "metadata": {},
   "source": [
    "### 2. Object\n",
    "An object is an instance of a class."
   ]
  },
  {
   "cell_type": "code",
   "execution_count": 2,
   "metadata": {},
   "outputs": [],
   "source": [
    "iris = Dataset(name=\"Iris Dataset\", num_columns=6, num_rows = 10, size_mb=0.1)"
   ]
  },
  {
   "cell_type": "code",
   "execution_count": 3,
   "metadata": {},
   "outputs": [],
   "source": [
    "titanic = Dataset(name=\"Titanic Dataset\", num_columns=6, num_rows = 15, size_mb=0.3)"
   ]
  },
  {
   "cell_type": "markdown",
   "metadata": {},
   "source": [
    "### 3. Attributes\n",
    "Variables that belong to the object."
   ]
  },
  {
   "cell_type": "code",
   "execution_count": 4,
   "metadata": {},
   "outputs": [
    {
     "name": "stdout",
     "output_type": "stream",
     "text": [
      "Iris Dataset\n",
      "Titanic Dataset\n"
     ]
    }
   ],
   "source": [
    "print(iris.name)\n",
    "print(titanic.name)"
   ]
  },
  {
   "cell_type": "markdown",
   "metadata": {},
   "source": [
    "### 4. Methods\n",
    "Functions that belong to the object: These are functions within the class."
   ]
  },
  {
   "cell_type": "code",
   "execution_count": 5,
   "metadata": {},
   "outputs": [],
   "source": [
    "class Dataset:\n",
    "    def __init__(self, name, num_columns, num_rows, size_mb):\n",
    "        self.name = name\n",
    "        self.num_columns = num_columns\n",
    "        self.num_rows = num_rows\n",
    "        self.size_mb = size_mb\n",
    "\n",
    "    def describe(self):\n",
    "        return f\"Dataset {self.name} has {self.num_rows} rows, {self.num_columns} columns, and total size of {self.size_mb}mb\""
   ]
  },
  {
   "cell_type": "code",
   "execution_count": 6,
   "metadata": {},
   "outputs": [],
   "source": [
    "titanic = Dataset(\"Titanic Dataset\", 150, 10, 50)"
   ]
  },
  {
   "cell_type": "markdown",
   "metadata": {},
   "source": [
    "### To see the description of the titanic dataset we use the `describe()` method."
   ]
  },
  {
   "cell_type": "code",
   "execution_count": 7,
   "metadata": {},
   "outputs": [
    {
     "name": "stdout",
     "output_type": "stream",
     "text": [
      "<__main__.Dataset object at 0x7594c3e757c0>\n"
     ]
    }
   ],
   "source": [
    "print(titanic)"
   ]
  },
  {
   "cell_type": "code",
   "execution_count": 8,
   "metadata": {},
   "outputs": [
    {
     "name": "stdout",
     "output_type": "stream",
     "text": [
      "Dataset Titanic Dataset has 10 rows, 150 columns, and total size of 50mb\n"
     ]
    }
   ],
   "source": [
    "print(titanic.describe())"
   ]
  },
  {
   "cell_type": "code",
   "execution_count": null,
   "metadata": {},
   "outputs": [],
   "source": []
  }
 ],
 "metadata": {
  "kernelspec": {
   "display_name": "base",
   "language": "python",
   "name": "python3"
  },
  "language_info": {
   "codemirror_mode": {
    "name": "ipython",
    "version": 3
   },
   "file_extension": ".py",
   "mimetype": "text/x-python",
   "name": "python",
   "nbconvert_exporter": "python",
   "pygments_lexer": "ipython3",
   "version": "3.12.7"
  }
 },
 "nbformat": 4,
 "nbformat_minor": 2
}
